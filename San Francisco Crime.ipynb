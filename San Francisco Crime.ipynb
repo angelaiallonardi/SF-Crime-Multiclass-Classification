{
 "cells": [
  {
   "cell_type": "code",
   "execution_count": 2,
   "metadata": {},
   "outputs": [],
   "source": [
    "import pandas as pd\n",
    "import numpy as np\n",
    "import seaborn as sns\n",
    "import matplotlib.pyplot as plt\n",
    "%matplotlib inline\n",
    "from matplotlib import cm"
   ]
  },
  {
   "cell_type": "markdown",
   "metadata": {},
   "source": [
    "## Question and problem definition"
   ]
  },
  {
   "cell_type": "markdown",
   "metadata": {},
   "source": [
    "The dataset provides nearly 12 years of crime reports from across all of San Francisco's neighborhoods. Given time and location, you must predict the category of crime that occurred."
   ]
  },
  {
   "cell_type": "markdown",
   "metadata": {},
   "source": [
    "## Exploratory analysis"
   ]
  },
  {
   "cell_type": "code",
   "execution_count": 62,
   "metadata": {},
   "outputs": [],
   "source": [
    "train_df = pd.read_csv('C:/Users/angel/Desktop/train.csv')"
   ]
  },
  {
   "cell_type": "code",
   "execution_count": 63,
   "metadata": {},
   "outputs": [],
   "source": [
    "test_df = pd.read_csv('C:/Users/angel/Desktop/test.csv')"
   ]
  },
  {
   "cell_type": "code",
   "execution_count": 64,
   "metadata": {},
   "outputs": [],
   "source": [
    "combine = [train_df, test_df]"
   ]
  },
  {
   "cell_type": "markdown",
   "metadata": {},
   "source": [
    "#### Which features are avaible in the dataset?"
   ]
  },
  {
   "cell_type": "code",
   "execution_count": 65,
   "metadata": {},
   "outputs": [
    {
     "name": "stdout",
     "output_type": "stream",
     "text": [
      "['Dates' 'Category' 'Descript' 'DayOfWeek' 'PdDistrict' 'Resolution'\n",
      " 'Address' 'X' 'Y']\n"
     ]
    }
   ],
   "source": [
    "print(train_df.columns.values)"
   ]
  },
  {
   "cell_type": "markdown",
   "metadata": {},
   "source": [
    "More specifically it includes the following variables:\n",
    "\n",
    "- Dates - timestamp of the crime incident\n",
    "\n",
    "- Category - category of the crime incident. (This is our target variable.)\n",
    "\n",
    "- Descript - detailed description of the crime incident\n",
    "\n",
    "- DayOfWeek - the day of the week\n",
    "\n",
    "- PdDistrict - the name of the Police Department District\n",
    "\n",
    "- Resolution - The resolution of the crime incident\n",
    "\n",
    "- Address - the approximate street address of the crime incident\n",
    "\n",
    "- X - Longitude\n",
    "\n",
    "- Y - Latitude\n"
   ]
  },
  {
   "cell_type": "markdown",
   "metadata": {},
   "source": [
    "#### Which features are categorical? Which features are numerical?"
   ]
  },
  {
   "cell_type": "code",
   "execution_count": 66,
   "metadata": {},
   "outputs": [
    {
     "data": {
      "text/html": [
       "<div>\n",
       "<style scoped>\n",
       "    .dataframe tbody tr th:only-of-type {\n",
       "        vertical-align: middle;\n",
       "    }\n",
       "\n",
       "    .dataframe tbody tr th {\n",
       "        vertical-align: top;\n",
       "    }\n",
       "\n",
       "    .dataframe thead th {\n",
       "        text-align: right;\n",
       "    }\n",
       "</style>\n",
       "<table border=\"1\" class=\"dataframe\">\n",
       "  <thead>\n",
       "    <tr style=\"text-align: right;\">\n",
       "      <th></th>\n",
       "      <th>Dates</th>\n",
       "      <th>Category</th>\n",
       "      <th>Descript</th>\n",
       "      <th>DayOfWeek</th>\n",
       "      <th>PdDistrict</th>\n",
       "      <th>Resolution</th>\n",
       "      <th>Address</th>\n",
       "      <th>X</th>\n",
       "      <th>Y</th>\n",
       "    </tr>\n",
       "  </thead>\n",
       "  <tbody>\n",
       "    <tr>\n",
       "      <th>0</th>\n",
       "      <td>2015-05-13 23:53:00</td>\n",
       "      <td>WARRANTS</td>\n",
       "      <td>WARRANT ARREST</td>\n",
       "      <td>Wednesday</td>\n",
       "      <td>NORTHERN</td>\n",
       "      <td>ARREST, BOOKED</td>\n",
       "      <td>OAK ST / LAGUNA ST</td>\n",
       "      <td>-122.425892</td>\n",
       "      <td>37.774599</td>\n",
       "    </tr>\n",
       "    <tr>\n",
       "      <th>1</th>\n",
       "      <td>2015-05-13 23:53:00</td>\n",
       "      <td>OTHER OFFENSES</td>\n",
       "      <td>TRAFFIC VIOLATION ARREST</td>\n",
       "      <td>Wednesday</td>\n",
       "      <td>NORTHERN</td>\n",
       "      <td>ARREST, BOOKED</td>\n",
       "      <td>OAK ST / LAGUNA ST</td>\n",
       "      <td>-122.425892</td>\n",
       "      <td>37.774599</td>\n",
       "    </tr>\n",
       "    <tr>\n",
       "      <th>2</th>\n",
       "      <td>2015-05-13 23:33:00</td>\n",
       "      <td>OTHER OFFENSES</td>\n",
       "      <td>TRAFFIC VIOLATION ARREST</td>\n",
       "      <td>Wednesday</td>\n",
       "      <td>NORTHERN</td>\n",
       "      <td>ARREST, BOOKED</td>\n",
       "      <td>VANNESS AV / GREENWICH ST</td>\n",
       "      <td>-122.424363</td>\n",
       "      <td>37.800414</td>\n",
       "    </tr>\n",
       "    <tr>\n",
       "      <th>3</th>\n",
       "      <td>2015-05-13 23:30:00</td>\n",
       "      <td>LARCENY/THEFT</td>\n",
       "      <td>GRAND THEFT FROM LOCKED AUTO</td>\n",
       "      <td>Wednesday</td>\n",
       "      <td>NORTHERN</td>\n",
       "      <td>NONE</td>\n",
       "      <td>1500 Block of LOMBARD ST</td>\n",
       "      <td>-122.426995</td>\n",
       "      <td>37.800873</td>\n",
       "    </tr>\n",
       "    <tr>\n",
       "      <th>4</th>\n",
       "      <td>2015-05-13 23:30:00</td>\n",
       "      <td>LARCENY/THEFT</td>\n",
       "      <td>GRAND THEFT FROM LOCKED AUTO</td>\n",
       "      <td>Wednesday</td>\n",
       "      <td>PARK</td>\n",
       "      <td>NONE</td>\n",
       "      <td>100 Block of BRODERICK ST</td>\n",
       "      <td>-122.438738</td>\n",
       "      <td>37.771541</td>\n",
       "    </tr>\n",
       "  </tbody>\n",
       "</table>\n",
       "</div>"
      ],
      "text/plain": [
       "                 Dates        Category                      Descript  \\\n",
       "0  2015-05-13 23:53:00        WARRANTS                WARRANT ARREST   \n",
       "1  2015-05-13 23:53:00  OTHER OFFENSES      TRAFFIC VIOLATION ARREST   \n",
       "2  2015-05-13 23:33:00  OTHER OFFENSES      TRAFFIC VIOLATION ARREST   \n",
       "3  2015-05-13 23:30:00   LARCENY/THEFT  GRAND THEFT FROM LOCKED AUTO   \n",
       "4  2015-05-13 23:30:00   LARCENY/THEFT  GRAND THEFT FROM LOCKED AUTO   \n",
       "\n",
       "   DayOfWeek PdDistrict      Resolution                    Address  \\\n",
       "0  Wednesday   NORTHERN  ARREST, BOOKED         OAK ST / LAGUNA ST   \n",
       "1  Wednesday   NORTHERN  ARREST, BOOKED         OAK ST / LAGUNA ST   \n",
       "2  Wednesday   NORTHERN  ARREST, BOOKED  VANNESS AV / GREENWICH ST   \n",
       "3  Wednesday   NORTHERN            NONE   1500 Block of LOMBARD ST   \n",
       "4  Wednesday       PARK            NONE  100 Block of BRODERICK ST   \n",
       "\n",
       "            X          Y  \n",
       "0 -122.425892  37.774599  \n",
       "1 -122.425892  37.774599  \n",
       "2 -122.424363  37.800414  \n",
       "3 -122.426995  37.800873  \n",
       "4 -122.438738  37.771541  "
      ]
     },
     "execution_count": 66,
     "metadata": {},
     "output_type": "execute_result"
    }
   ],
   "source": [
    "train_df.head()"
   ]
  },
  {
   "cell_type": "code",
   "execution_count": 67,
   "metadata": {},
   "outputs": [
    {
     "data": {
      "text/html": [
       "<div>\n",
       "<style scoped>\n",
       "    .dataframe tbody tr th:only-of-type {\n",
       "        vertical-align: middle;\n",
       "    }\n",
       "\n",
       "    .dataframe tbody tr th {\n",
       "        vertical-align: top;\n",
       "    }\n",
       "\n",
       "    .dataframe thead th {\n",
       "        text-align: right;\n",
       "    }\n",
       "</style>\n",
       "<table border=\"1\" class=\"dataframe\">\n",
       "  <thead>\n",
       "    <tr style=\"text-align: right;\">\n",
       "      <th></th>\n",
       "      <th>Id</th>\n",
       "      <th>Dates</th>\n",
       "      <th>DayOfWeek</th>\n",
       "      <th>PdDistrict</th>\n",
       "      <th>Address</th>\n",
       "      <th>X</th>\n",
       "      <th>Y</th>\n",
       "    </tr>\n",
       "  </thead>\n",
       "  <tbody>\n",
       "    <tr>\n",
       "      <th>0</th>\n",
       "      <td>0</td>\n",
       "      <td>2015-05-10 23:59:00</td>\n",
       "      <td>Sunday</td>\n",
       "      <td>BAYVIEW</td>\n",
       "      <td>2000 Block of THOMAS AV</td>\n",
       "      <td>-122.399588</td>\n",
       "      <td>37.735051</td>\n",
       "    </tr>\n",
       "    <tr>\n",
       "      <th>1</th>\n",
       "      <td>1</td>\n",
       "      <td>2015-05-10 23:51:00</td>\n",
       "      <td>Sunday</td>\n",
       "      <td>BAYVIEW</td>\n",
       "      <td>3RD ST / REVERE AV</td>\n",
       "      <td>-122.391523</td>\n",
       "      <td>37.732432</td>\n",
       "    </tr>\n",
       "    <tr>\n",
       "      <th>2</th>\n",
       "      <td>2</td>\n",
       "      <td>2015-05-10 23:50:00</td>\n",
       "      <td>Sunday</td>\n",
       "      <td>NORTHERN</td>\n",
       "      <td>2000 Block of GOUGH ST</td>\n",
       "      <td>-122.426002</td>\n",
       "      <td>37.792212</td>\n",
       "    </tr>\n",
       "    <tr>\n",
       "      <th>3</th>\n",
       "      <td>3</td>\n",
       "      <td>2015-05-10 23:45:00</td>\n",
       "      <td>Sunday</td>\n",
       "      <td>INGLESIDE</td>\n",
       "      <td>4700 Block of MISSION ST</td>\n",
       "      <td>-122.437394</td>\n",
       "      <td>37.721412</td>\n",
       "    </tr>\n",
       "    <tr>\n",
       "      <th>4</th>\n",
       "      <td>4</td>\n",
       "      <td>2015-05-10 23:45:00</td>\n",
       "      <td>Sunday</td>\n",
       "      <td>INGLESIDE</td>\n",
       "      <td>4700 Block of MISSION ST</td>\n",
       "      <td>-122.437394</td>\n",
       "      <td>37.721412</td>\n",
       "    </tr>\n",
       "  </tbody>\n",
       "</table>\n",
       "</div>"
      ],
      "text/plain": [
       "   Id                Dates DayOfWeek PdDistrict                   Address  \\\n",
       "0   0  2015-05-10 23:59:00    Sunday    BAYVIEW   2000 Block of THOMAS AV   \n",
       "1   1  2015-05-10 23:51:00    Sunday    BAYVIEW        3RD ST / REVERE AV   \n",
       "2   2  2015-05-10 23:50:00    Sunday   NORTHERN    2000 Block of GOUGH ST   \n",
       "3   3  2015-05-10 23:45:00    Sunday  INGLESIDE  4700 Block of MISSION ST   \n",
       "4   4  2015-05-10 23:45:00    Sunday  INGLESIDE  4700 Block of MISSION ST   \n",
       "\n",
       "            X          Y  \n",
       "0 -122.399588  37.735051  \n",
       "1 -122.391523  37.732432  \n",
       "2 -122.426002  37.792212  \n",
       "3 -122.437394  37.721412  \n",
       "4 -122.437394  37.721412  "
      ]
     },
     "execution_count": 67,
     "metadata": {},
     "output_type": "execute_result"
    }
   ],
   "source": [
    "test_df.head()"
   ]
  },
  {
   "cell_type": "markdown",
   "metadata": {},
   "source": [
    "#### What are the data types for various features?\n"
   ]
  },
  {
   "cell_type": "code",
   "execution_count": 68,
   "metadata": {},
   "outputs": [
    {
     "name": "stdout",
     "output_type": "stream",
     "text": [
      "<class 'pandas.core.frame.DataFrame'>\n",
      "RangeIndex: 878049 entries, 0 to 878048\n",
      "Data columns (total 9 columns):\n",
      "Dates         878049 non-null object\n",
      "Category      878049 non-null object\n",
      "Descript      878049 non-null object\n",
      "DayOfWeek     878049 non-null object\n",
      "PdDistrict    878049 non-null object\n",
      "Resolution    878049 non-null object\n",
      "Address       878049 non-null object\n",
      "X             878049 non-null float64\n",
      "Y             878049 non-null float64\n",
      "dtypes: float64(2), object(7)\n",
      "memory usage: 60.3+ MB\n"
     ]
    }
   ],
   "source": [
    "train_df.info()"
   ]
  },
  {
   "cell_type": "code",
   "execution_count": 69,
   "metadata": {},
   "outputs": [
    {
     "name": "stdout",
     "output_type": "stream",
     "text": [
      "<class 'pandas.core.frame.DataFrame'>\n",
      "RangeIndex: 884262 entries, 0 to 884261\n",
      "Data columns (total 7 columns):\n",
      "Id            884262 non-null int64\n",
      "Dates         884262 non-null object\n",
      "DayOfWeek     884262 non-null object\n",
      "PdDistrict    884262 non-null object\n",
      "Address       884262 non-null object\n",
      "X             884262 non-null float64\n",
      "Y             884262 non-null float64\n",
      "dtypes: float64(2), int64(1), object(4)\n",
      "memory usage: 47.2+ MB\n"
     ]
    }
   ],
   "source": [
    "test_df.info()"
   ]
  },
  {
   "cell_type": "markdown",
   "metadata": {},
   "source": [
    "The dataset contains a lot of 'object' variables (aka strings) that we will need to encode."
   ]
  },
  {
   "cell_type": "markdown",
   "metadata": {},
   "source": [
    "#### What is the distribution of the features?"
   ]
  },
  {
   "cell_type": "code",
   "execution_count": 70,
   "metadata": {},
   "outputs": [
    {
     "data": {
      "text/html": [
       "<div>\n",
       "<style scoped>\n",
       "    .dataframe tbody tr th:only-of-type {\n",
       "        vertical-align: middle;\n",
       "    }\n",
       "\n",
       "    .dataframe tbody tr th {\n",
       "        vertical-align: top;\n",
       "    }\n",
       "\n",
       "    .dataframe thead th {\n",
       "        text-align: right;\n",
       "    }\n",
       "</style>\n",
       "<table border=\"1\" class=\"dataframe\">\n",
       "  <thead>\n",
       "    <tr style=\"text-align: right;\">\n",
       "      <th></th>\n",
       "      <th>X</th>\n",
       "      <th>Y</th>\n",
       "    </tr>\n",
       "  </thead>\n",
       "  <tbody>\n",
       "    <tr>\n",
       "      <th>count</th>\n",
       "      <td>878049.000000</td>\n",
       "      <td>878049.000000</td>\n",
       "    </tr>\n",
       "    <tr>\n",
       "      <th>mean</th>\n",
       "      <td>-122.422616</td>\n",
       "      <td>37.771020</td>\n",
       "    </tr>\n",
       "    <tr>\n",
       "      <th>std</th>\n",
       "      <td>0.030354</td>\n",
       "      <td>0.456893</td>\n",
       "    </tr>\n",
       "    <tr>\n",
       "      <th>min</th>\n",
       "      <td>-122.513642</td>\n",
       "      <td>37.707879</td>\n",
       "    </tr>\n",
       "    <tr>\n",
       "      <th>25%</th>\n",
       "      <td>-122.432952</td>\n",
       "      <td>37.752427</td>\n",
       "    </tr>\n",
       "    <tr>\n",
       "      <th>50%</th>\n",
       "      <td>-122.416420</td>\n",
       "      <td>37.775421</td>\n",
       "    </tr>\n",
       "    <tr>\n",
       "      <th>75%</th>\n",
       "      <td>-122.406959</td>\n",
       "      <td>37.784369</td>\n",
       "    </tr>\n",
       "    <tr>\n",
       "      <th>max</th>\n",
       "      <td>-120.500000</td>\n",
       "      <td>90.000000</td>\n",
       "    </tr>\n",
       "  </tbody>\n",
       "</table>\n",
       "</div>"
      ],
      "text/plain": [
       "                   X              Y\n",
       "count  878049.000000  878049.000000\n",
       "mean     -122.422616      37.771020\n",
       "std         0.030354       0.456893\n",
       "min      -122.513642      37.707879\n",
       "25%      -122.432952      37.752427\n",
       "50%      -122.416420      37.775421\n",
       "75%      -122.406959      37.784369\n",
       "max      -120.500000      90.000000"
      ]
     },
     "execution_count": 70,
     "metadata": {},
     "output_type": "execute_result"
    }
   ],
   "source": [
    "train_df.describe()"
   ]
  },
  {
   "cell_type": "code",
   "execution_count": 71,
   "metadata": {},
   "outputs": [
    {
     "data": {
      "text/html": [
       "<div>\n",
       "<style scoped>\n",
       "    .dataframe tbody tr th:only-of-type {\n",
       "        vertical-align: middle;\n",
       "    }\n",
       "\n",
       "    .dataframe tbody tr th {\n",
       "        vertical-align: top;\n",
       "    }\n",
       "\n",
       "    .dataframe thead th {\n",
       "        text-align: right;\n",
       "    }\n",
       "</style>\n",
       "<table border=\"1\" class=\"dataframe\">\n",
       "  <thead>\n",
       "    <tr style=\"text-align: right;\">\n",
       "      <th></th>\n",
       "      <th>Dates</th>\n",
       "      <th>Category</th>\n",
       "      <th>Descript</th>\n",
       "      <th>DayOfWeek</th>\n",
       "      <th>PdDistrict</th>\n",
       "      <th>Resolution</th>\n",
       "      <th>Address</th>\n",
       "    </tr>\n",
       "  </thead>\n",
       "  <tbody>\n",
       "    <tr>\n",
       "      <th>count</th>\n",
       "      <td>878049</td>\n",
       "      <td>878049</td>\n",
       "      <td>878049</td>\n",
       "      <td>878049</td>\n",
       "      <td>878049</td>\n",
       "      <td>878049</td>\n",
       "      <td>878049</td>\n",
       "    </tr>\n",
       "    <tr>\n",
       "      <th>unique</th>\n",
       "      <td>389257</td>\n",
       "      <td>39</td>\n",
       "      <td>879</td>\n",
       "      <td>7</td>\n",
       "      <td>10</td>\n",
       "      <td>17</td>\n",
       "      <td>23228</td>\n",
       "    </tr>\n",
       "    <tr>\n",
       "      <th>top</th>\n",
       "      <td>2011-01-01 00:01:00</td>\n",
       "      <td>LARCENY/THEFT</td>\n",
       "      <td>GRAND THEFT FROM LOCKED AUTO</td>\n",
       "      <td>Friday</td>\n",
       "      <td>SOUTHERN</td>\n",
       "      <td>NONE</td>\n",
       "      <td>800 Block of BRYANT ST</td>\n",
       "    </tr>\n",
       "    <tr>\n",
       "      <th>freq</th>\n",
       "      <td>185</td>\n",
       "      <td>174900</td>\n",
       "      <td>60022</td>\n",
       "      <td>133734</td>\n",
       "      <td>157182</td>\n",
       "      <td>526790</td>\n",
       "      <td>26533</td>\n",
       "    </tr>\n",
       "  </tbody>\n",
       "</table>\n",
       "</div>"
      ],
      "text/plain": [
       "                      Dates       Category                      Descript  \\\n",
       "count                878049         878049                        878049   \n",
       "unique               389257             39                           879   \n",
       "top     2011-01-01 00:01:00  LARCENY/THEFT  GRAND THEFT FROM LOCKED AUTO   \n",
       "freq                    185         174900                         60022   \n",
       "\n",
       "       DayOfWeek PdDistrict Resolution                 Address  \n",
       "count     878049     878049     878049                  878049  \n",
       "unique         7         10         17                   23228  \n",
       "top       Friday   SOUTHERN       NONE  800 Block of BRYANT ST  \n",
       "freq      133734     157182     526790                   26533  "
      ]
     },
     "execution_count": 71,
     "metadata": {},
     "output_type": "execute_result"
    }
   ],
   "source": [
    "train_df.describe(include=['O'])"
   ]
  },
  {
   "cell_type": "markdown",
   "metadata": {},
   "source": [
    "#### Which features contain null or empty values?"
   ]
  },
  {
   "cell_type": "code",
   "execution_count": 72,
   "metadata": {},
   "outputs": [
    {
     "data": {
      "text/plain": [
       "Dates         0\n",
       "Category      0\n",
       "Descript      0\n",
       "DayOfWeek     0\n",
       "PdDistrict    0\n",
       "Resolution    0\n",
       "Address       0\n",
       "X             0\n",
       "Y             0\n",
       "dtype: int64"
      ]
     },
     "execution_count": 72,
     "metadata": {},
     "output_type": "execute_result"
    }
   ],
   "source": [
    "train_df.isnull().sum()"
   ]
  },
  {
   "cell_type": "code",
   "execution_count": 73,
   "metadata": {},
   "outputs": [
    {
     "data": {
      "text/plain": [
       "Id            0\n",
       "Dates         0\n",
       "DayOfWeek     0\n",
       "PdDistrict    0\n",
       "Address       0\n",
       "X             0\n",
       "Y             0\n",
       "dtype: int64"
      ]
     },
     "execution_count": 73,
     "metadata": {},
     "output_type": "execute_result"
    }
   ],
   "source": [
    "test_df.isnull().sum()"
   ]
  },
  {
   "cell_type": "markdown",
   "metadata": {},
   "source": [
    "#### Single Variable Analysis"
   ]
  },
  {
   "cell_type": "markdown",
   "metadata": {},
   "source": [
    "Are there any districts that are more dangerous than others?"
   ]
  },
  {
   "cell_type": "code",
   "execution_count": 74,
   "metadata": {},
   "outputs": [
    {
     "name": "stdout",
     "output_type": "stream",
     "text": [
      "SOUTHERN      157182\n",
      "MISSION       119908\n",
      "NORTHERN      105296\n",
      "BAYVIEW        89431\n",
      "CENTRAL        85460\n",
      "TENDERLOIN     81809\n",
      "INGLESIDE      78845\n",
      "TARAVAL        65596\n",
      "PARK           49313\n",
      "RICHMOND       45209\n",
      "Name: PdDistrict, dtype: int64\n"
     ]
    }
   ],
   "source": [
    "print(train_df.PdDistrict.value_counts())"
   ]
  },
  {
   "cell_type": "code",
   "execution_count": 77,
   "metadata": {},
   "outputs": [
    {
     "data": {
      "text/plain": [
       "[Text(0, 0, 'SOUTHERN'),\n",
       " Text(0, 0, 'MISSION'),\n",
       " Text(0, 0, 'NORTHERN'),\n",
       " Text(0, 0, 'BAYVIEW'),\n",
       " Text(0, 0, 'CENTRAL'),\n",
       " Text(0, 0, 'TENDERLOIN'),\n",
       " Text(0, 0, 'INGLESIDE'),\n",
       " Text(0, 0, 'TARAVAL'),\n",
       " Text(0, 0, 'PARK'),\n",
       " Text(0, 0, 'RICHMOND')]"
      ]
     },
     "execution_count": 77,
     "metadata": {},
     "output_type": "execute_result"
    },
    {
     "data": {
      "image/png": "[encoded data removed]",
      "text/plain": [
       "<Figure size 432x288 with 1 Axes>"
      ]
     },
     "metadata": {
      "needs_background": "light"
     },
     "output_type": "display_data"
    }
   ],
   "source": [
    "most_dangerous_districts = train_df.PdDistrict.value_counts()\n",
    "_n_crime_plot = sns.barplot(x=most_dangerous_districts.index,y=most_dangerous_districts)\n",
    "_n_crime_plot.set_xticklabels(most_dangerous_districts.index,rotation=90)"
   ]
  },
  {
   "cell_type": "markdown",
   "metadata": {},
   "source": [
    "Clearly, there are differences in the occurrence of crimes through district."
   ]
  },
  {
   "cell_type": "markdown",
   "metadata": {},
   "source": [
    "Now let's take a look at the categories of crimes.."
   ]
  },
  {
   "cell_type": "code",
   "execution_count": 17,
   "metadata": {},
   "outputs": [
    {
     "name": "stdout",
     "output_type": "stream",
     "text": [
      "LARCENY/THEFT                  174900\n",
      "OTHER OFFENSES                 126182\n",
      "NON-CRIMINAL                    92304\n",
      "ASSAULT                         76876\n",
      "DRUG/NARCOTIC                   53971\n",
      "VEHICLE THEFT                   53781\n",
      "VANDALISM                       44725\n",
      "WARRANTS                        42214\n",
      "BURGLARY                        36755\n",
      "SUSPICIOUS OCC                  31414\n",
      "MISSING PERSON                  25989\n",
      "ROBBERY                         23000\n",
      "FRAUD                           16679\n",
      "FORGERY/COUNTERFEITING          10609\n",
      "SECONDARY CODES                  9985\n",
      "WEAPON LAWS                      8555\n",
      "PROSTITUTION                     7484\n",
      "TRESPASS                         7326\n",
      "STOLEN PROPERTY                  4540\n",
      "SEX OFFENSES FORCIBLE            4388\n",
      "DISORDERLY CONDUCT               4320\n",
      "DRUNKENNESS                      4280\n",
      "RECOVERED VEHICLE                3138\n",
      "KIDNAPPING                       2341\n",
      "DRIVING UNDER THE INFLUENCE      2268\n",
      "RUNAWAY                          1946\n",
      "LIQUOR LAWS                      1903\n",
      "ARSON                            1513\n",
      "LOITERING                        1225\n",
      "EMBEZZLEMENT                     1166\n",
      "SUICIDE                           508\n",
      "FAMILY OFFENSES                   491\n",
      "BAD CHECKS                        406\n",
      "BRIBERY                           289\n",
      "EXTORTION                         256\n",
      "SEX OFFENSES NON FORCIBLE         148\n",
      "GAMBLING                          146\n",
      "PORNOGRAPHY/OBSCENE MAT            22\n",
      "TREA                                6\n",
      "Name: Category, dtype: int64\n"
     ]
    }
   ],
   "source": [
    "print(train_df.Category.value_counts())"
   ]
  },
  {
   "cell_type": "markdown",
   "metadata": {},
   "source": [
    "There are 39 discrete categories that the police department file the incidents, with the most common being Larceny/Theft."
   ]
  },
  {
   "cell_type": "code",
   "execution_count": 83,
   "metadata": {},
   "outputs": [
    {
     "data": {
      "text/plain": [
       "<seaborn.axisgrid.FacetGrid at 0x21a03625bc8>"
      ]
     },
     "execution_count": 83,
     "metadata": {},
     "output_type": "execute_result"
    },
    {
     "data": {
      "image/png": "[encoded data removed]",
      "text/plain": [
       "<Figure size 972x324 with 1 Axes>"
      ]
     },
     "metadata": {
      "needs_background": "light"
     },
     "output_type": "display_data"
    }
   ],
   "source": [
    "x = sns.catplot('Category', data = train_df, kind = 'count', aspect = 3, height = 4.5)\n",
    "x.set_xticklabels(rotation = 85)"
   ]
  },
  {
   "cell_type": "code",
   "execution_count": 97,
   "metadata": {},
   "outputs": [
    {
     "data": {
      "image/png": "[encoded data removed]",
      "text/plain": [
       "<Figure size 720x720 with 1 Axes>"
      ]
     },
     "metadata": {
      "needs_background": "light"
     },
     "output_type": "display_data"
    }
   ],
   "source": [
    "data = train_df.groupby('Category').count().iloc[:, 0].sort_values(\n",
    "    ascending=False)\n",
    "plt.figure(figsize=(10, 10))\n",
    "with sns.axes_style(\"whitegrid\"):\n",
    "    ax = sns.barplot(\n",
    "        (data.values / data.values.sum()) * 100,\n",
    "        data.index,\n",
    "        orient='h',\n",
    "        palette=\"Reds_r\")\n",
    "\n",
    "plt.title('Incidents per Crime Category', fontdict={'fontsize': 16})\n",
    "plt.xlabel('Incidents (%)')\n",
    "\n",
    "plt.show()"
   ]
  },
  {
   "cell_type": "markdown",
   "metadata": {},
   "source": [
    "What about Dates and Weekday??"
   ]
  },
  {
   "cell_type": "markdown",
   "metadata": {},
   "source": [
    "Let's first check the format used for the days of week and see how many crimes do we have for each of them."
   ]
  },
  {
   "cell_type": "code",
   "execution_count": 98,
   "metadata": {},
   "outputs": [
    {
     "data": {
      "text/plain": [
       "Friday       133734\n",
       "Wednesday    129211\n",
       "Saturday     126810\n",
       "Thursday     125038\n",
       "Tuesday      124965\n",
       "Monday       121584\n",
       "Sunday       116707\n",
       "Name: DayOfWeek, dtype: int64"
      ]
     },
     "execution_count": 98,
     "metadata": {},
     "output_type": "execute_result"
    }
   ],
   "source": [
    "train_df.DayOfWeek.value_counts()"
   ]
  },
  {
   "cell_type": "markdown",
   "metadata": {},
   "source": [
    "Not so much to say here: the full names of the days are used and it seems that there are no material differences in term of number of crime for each day."
   ]
  },
  {
   "cell_type": "code",
   "execution_count": 101,
   "metadata": {},
   "outputs": [
    {
     "data": {
      "image/png": "[encoded data removed]",
      "text/plain": [
       "<Figure size 720x360 with 1 Axes>"
      ]
     },
     "metadata": {
      "needs_background": "light"
     },
     "output_type": "display_data"
    }
   ],
   "source": [
    "from matplotlib import cm\n",
    "data = train_df.groupby('DayOfWeek').count().iloc[:, 0]\n",
    "plt.figure(figsize=(10, 5))\n",
    "with sns.axes_style(\"whitegrid\"):\n",
    "    ax = sns.barplot(\n",
    "        data.index, (data.values / data.values.sum()) * 100,\n",
    "        orient='v',\n",
    "        palette=cm.ScalarMappable(cmap='Reds').to_rgba(data.values))\n",
    "\n",
    "plt.title('Incidents per Weekday', fontdict={'fontsize': 16})\n",
    "plt.xlabel('Weekday')\n",
    "plt.ylabel('Incidents (%)')\n",
    "\n",
    "plt.show()"
   ]
  },
  {
   "cell_type": "markdown",
   "metadata": {},
   "source": [
    "Let's check the format used for the Dates.."
   ]
  },
  {
   "cell_type": "code",
   "execution_count": 18,
   "metadata": {},
   "outputs": [
    {
     "data": {
      "text/plain": [
       "0         2015-05-13 23:53:00\n",
       "1         2015-05-13 23:53:00\n",
       "2         2015-05-13 23:33:00\n",
       "3         2015-05-13 23:30:00\n",
       "4         2015-05-13 23:30:00\n",
       "                 ...         \n",
       "878044    2003-01-06 00:15:00\n",
       "878045    2003-01-06 00:01:00\n",
       "878046    2003-01-06 00:01:00\n",
       "878047    2003-01-06 00:01:00\n",
       "878048    2003-01-06 00:01:00\n",
       "Name: Dates, Length: 878049, dtype: object"
      ]
     },
     "execution_count": 18,
     "metadata": {},
     "output_type": "execute_result"
    }
   ],
   "source": [
    "train_df.Dates"
   ]
  },
  {
   "cell_type": "markdown",
   "metadata": {},
   "source": [
    "It would be appropriate to divide time and date in the train and test set."
   ]
  },
  {
   "cell_type": "markdown",
   "metadata": {},
   "source": [
    "For now let's have a look to the number of cases hourly by district.."
   ]
  },
  {
   "cell_type": "code",
   "execution_count": 126,
   "metadata": {},
   "outputs": [],
   "source": [
    "hours = train_df['Dates'].dt.strftime('%H')"
   ]
  },
  {
   "cell_type": "code",
   "execution_count": 130,
   "metadata": {},
   "outputs": [
    {
     "data": {
      "text/plain": [
       "<matplotlib.axes._subplots.AxesSubplot at 0x21a2fd61508>"
      ]
     },
     "execution_count": 130,
     "metadata": {},
     "output_type": "execute_result"
    },
    {
     "data": {
      "image/png": "[encoded data removed]",
      "text/plain": [
       "<Figure size 1440x576 with 1 Axes>"
      ]
     },
     "metadata": {
      "needs_background": "light"
     },
     "output_type": "display_data"
    }
   ],
   "source": [
    "hourly = train_df[['Hours', 'PdDistrict']]\n",
    "hourly = pd.crosstab([hourly.Hours], hourly.PdDistrict).reset_index()\n",
    "grab_dists = hourly.iloc[:, 1:]\n",
    "hourly.plot(x='Hours', y=grab_dists.columns, figsize=(20, 8))"
   ]
  },
  {
   "cell_type": "markdown",
   "metadata": {},
   "source": [
    "As we can see in the graph, the number of crimes fall between midnight and 5:00am for each district and the greatest number of crimes occur around 6:00pm ."
   ]
  },
  {
   "cell_type": "code",
   "execution_count": null,
   "metadata": {},
   "outputs": [],
   "source": [
    "data = train_df.groupby('Category').count().iloc[:, 0].sort_values(\n",
    "    ascending=False)"
   ]
  },
  {
   "cell_type": "markdown",
   "metadata": {},
   "source": [
    "## Feature Engineering"
   ]
  },
  {
   "cell_type": "code",
   "execution_count": 110,
   "metadata": {},
   "outputs": [],
   "source": [
    "train_df['Dates'] = pd.to_datetime(train_df.Dates)"
   ]
  },
  {
   "cell_type": "code",
   "execution_count": 111,
   "metadata": {},
   "outputs": [],
   "source": [
    "train_df['Times'] = train_df['Dates'].dt.strftime('%H:%M')"
   ]
  },
  {
   "cell_type": "code",
   "execution_count": 113,
   "metadata": {},
   "outputs": [
    {
     "data": {
      "text/html": [
       "<div>\n",
       "<style scoped>\n",
       "    .dataframe tbody tr th:only-of-type {\n",
       "        vertical-align: middle;\n",
       "    }\n",
       "\n",
       "    .dataframe tbody tr th {\n",
       "        vertical-align: top;\n",
       "    }\n",
       "\n",
       "    .dataframe thead th {\n",
       "        text-align: right;\n",
       "    }\n",
       "</style>\n",
       "<table border=\"1\" class=\"dataframe\">\n",
       "  <thead>\n",
       "    <tr style=\"text-align: right;\">\n",
       "      <th></th>\n",
       "      <th>Dates</th>\n",
       "      <th>Category</th>\n",
       "      <th>Descript</th>\n",
       "      <th>DayOfWeek</th>\n",
       "      <th>PdDistrict</th>\n",
       "      <th>Resolution</th>\n",
       "      <th>Address</th>\n",
       "      <th>X</th>\n",
       "      <th>Y</th>\n",
       "      <th>Times</th>\n",
       "    </tr>\n",
       "  </thead>\n",
       "  <tbody>\n",
       "    <tr>\n",
       "      <th>0</th>\n",
       "      <td>2015-05-13 23:53:00</td>\n",
       "      <td>WARRANTS</td>\n",
       "      <td>WARRANT ARREST</td>\n",
       "      <td>Wednesday</td>\n",
       "      <td>NORTHERN</td>\n",
       "      <td>ARREST, BOOKED</td>\n",
       "      <td>OAK ST / LAGUNA ST</td>\n",
       "      <td>-122.425892</td>\n",
       "      <td>37.774599</td>\n",
       "      <td>23:53</td>\n",
       "    </tr>\n",
       "    <tr>\n",
       "      <th>1</th>\n",
       "      <td>2015-05-13 23:53:00</td>\n",
       "      <td>OTHER OFFENSES</td>\n",
       "      <td>TRAFFIC VIOLATION ARREST</td>\n",
       "      <td>Wednesday</td>\n",
       "      <td>NORTHERN</td>\n",
       "      <td>ARREST, BOOKED</td>\n",
       "      <td>OAK ST / LAGUNA ST</td>\n",
       "      <td>-122.425892</td>\n",
       "      <td>37.774599</td>\n",
       "      <td>23:53</td>\n",
       "    </tr>\n",
       "    <tr>\n",
       "      <th>2</th>\n",
       "      <td>2015-05-13 23:33:00</td>\n",
       "      <td>OTHER OFFENSES</td>\n",
       "      <td>TRAFFIC VIOLATION ARREST</td>\n",
       "      <td>Wednesday</td>\n",
       "      <td>NORTHERN</td>\n",
       "      <td>ARREST, BOOKED</td>\n",
       "      <td>VANNESS AV / GREENWICH ST</td>\n",
       "      <td>-122.424363</td>\n",
       "      <td>37.800414</td>\n",
       "      <td>23:33</td>\n",
       "    </tr>\n",
       "    <tr>\n",
       "      <th>3</th>\n",
       "      <td>2015-05-13 23:30:00</td>\n",
       "      <td>LARCENY/THEFT</td>\n",
       "      <td>GRAND THEFT FROM LOCKED AUTO</td>\n",
       "      <td>Wednesday</td>\n",
       "      <td>NORTHERN</td>\n",
       "      <td>NONE</td>\n",
       "      <td>1500 Block of LOMBARD ST</td>\n",
       "      <td>-122.426995</td>\n",
       "      <td>37.800873</td>\n",
       "      <td>23:30</td>\n",
       "    </tr>\n",
       "    <tr>\n",
       "      <th>4</th>\n",
       "      <td>2015-05-13 23:30:00</td>\n",
       "      <td>LARCENY/THEFT</td>\n",
       "      <td>GRAND THEFT FROM LOCKED AUTO</td>\n",
       "      <td>Wednesday</td>\n",
       "      <td>PARK</td>\n",
       "      <td>NONE</td>\n",
       "      <td>100 Block of BRODERICK ST</td>\n",
       "      <td>-122.438738</td>\n",
       "      <td>37.771541</td>\n",
       "      <td>23:30</td>\n",
       "    </tr>\n",
       "  </tbody>\n",
       "</table>\n",
       "</div>"
      ],
      "text/plain": [
       "                Dates        Category                      Descript  \\\n",
       "0 2015-05-13 23:53:00        WARRANTS                WARRANT ARREST   \n",
       "1 2015-05-13 23:53:00  OTHER OFFENSES      TRAFFIC VIOLATION ARREST   \n",
       "2 2015-05-13 23:33:00  OTHER OFFENSES      TRAFFIC VIOLATION ARREST   \n",
       "3 2015-05-13 23:30:00   LARCENY/THEFT  GRAND THEFT FROM LOCKED AUTO   \n",
       "4 2015-05-13 23:30:00   LARCENY/THEFT  GRAND THEFT FROM LOCKED AUTO   \n",
       "\n",
       "   DayOfWeek PdDistrict      Resolution                    Address  \\\n",
       "0  Wednesday   NORTHERN  ARREST, BOOKED         OAK ST / LAGUNA ST   \n",
       "1  Wednesday   NORTHERN  ARREST, BOOKED         OAK ST / LAGUNA ST   \n",
       "2  Wednesday   NORTHERN  ARREST, BOOKED  VANNESS AV / GREENWICH ST   \n",
       "3  Wednesday   NORTHERN            NONE   1500 Block of LOMBARD ST   \n",
       "4  Wednesday       PARK            NONE  100 Block of BRODERICK ST   \n",
       "\n",
       "            X          Y  Times  \n",
       "0 -122.425892  37.774599  23:53  \n",
       "1 -122.425892  37.774599  23:53  \n",
       "2 -122.424363  37.800414  23:33  \n",
       "3 -122.426995  37.800873  23:30  \n",
       "4 -122.438738  37.771541  23:30  "
      ]
     },
     "execution_count": 113,
     "metadata": {},
     "output_type": "execute_result"
    }
   ],
   "source": [
    "train_df.head()"
   ]
  },
  {
   "cell_type": "code",
   "execution_count": 23,
   "metadata": {},
   "outputs": [],
   "source": [
    "train_df['Date'] = train_df['Dates'].dt.date"
   ]
  },
  {
   "cell_type": "code",
   "execution_count": 24,
   "metadata": {},
   "outputs": [
    {
     "data": {
      "text/html": [
       "<div>\n",
       "<style scoped>\n",
       "    .dataframe tbody tr th:only-of-type {\n",
       "        vertical-align: middle;\n",
       "    }\n",
       "\n",
       "    .dataframe tbody tr th {\n",
       "        vertical-align: top;\n",
       "    }\n",
       "\n",
       "    .dataframe thead th {\n",
       "        text-align: right;\n",
       "    }\n",
       "</style>\n",
       "<table border=\"1\" class=\"dataframe\">\n",
       "  <thead>\n",
       "    <tr style=\"text-align: right;\">\n",
       "      <th></th>\n",
       "      <th>Dates</th>\n",
       "      <th>Category</th>\n",
       "      <th>Descript</th>\n",
       "      <th>DayOfWeek</th>\n",
       "      <th>PdDistrict</th>\n",
       "      <th>Resolution</th>\n",
       "      <th>Address</th>\n",
       "      <th>X</th>\n",
       "      <th>Y</th>\n",
       "      <th>Times</th>\n",
       "      <th>Date</th>\n",
       "    </tr>\n",
       "  </thead>\n",
       "  <tbody>\n",
       "    <tr>\n",
       "      <th>0</th>\n",
       "      <td>2015-05-13 23:53:00</td>\n",
       "      <td>WARRANTS</td>\n",
       "      <td>WARRANT ARREST</td>\n",
       "      <td>Wednesday</td>\n",
       "      <td>NORTHERN</td>\n",
       "      <td>ARREST, BOOKED</td>\n",
       "      <td>OAK ST / LAGUNA ST</td>\n",
       "      <td>-122.425892</td>\n",
       "      <td>37.774599</td>\n",
       "      <td>23:53</td>\n",
       "      <td>2015-05-13</td>\n",
       "    </tr>\n",
       "    <tr>\n",
       "      <th>1</th>\n",
       "      <td>2015-05-13 23:53:00</td>\n",
       "      <td>OTHER OFFENSES</td>\n",
       "      <td>TRAFFIC VIOLATION ARREST</td>\n",
       "      <td>Wednesday</td>\n",
       "      <td>NORTHERN</td>\n",
       "      <td>ARREST, BOOKED</td>\n",
       "      <td>OAK ST / LAGUNA ST</td>\n",
       "      <td>-122.425892</td>\n",
       "      <td>37.774599</td>\n",
       "      <td>23:53</td>\n",
       "      <td>2015-05-13</td>\n",
       "    </tr>\n",
       "    <tr>\n",
       "      <th>2</th>\n",
       "      <td>2015-05-13 23:33:00</td>\n",
       "      <td>OTHER OFFENSES</td>\n",
       "      <td>TRAFFIC VIOLATION ARREST</td>\n",
       "      <td>Wednesday</td>\n",
       "      <td>NORTHERN</td>\n",
       "      <td>ARREST, BOOKED</td>\n",
       "      <td>VANNESS AV / GREENWICH ST</td>\n",
       "      <td>-122.424363</td>\n",
       "      <td>37.800414</td>\n",
       "      <td>23:33</td>\n",
       "      <td>2015-05-13</td>\n",
       "    </tr>\n",
       "    <tr>\n",
       "      <th>3</th>\n",
       "      <td>2015-05-13 23:30:00</td>\n",
       "      <td>LARCENY/THEFT</td>\n",
       "      <td>GRAND THEFT FROM LOCKED AUTO</td>\n",
       "      <td>Wednesday</td>\n",
       "      <td>NORTHERN</td>\n",
       "      <td>NONE</td>\n",
       "      <td>1500 Block of LOMBARD ST</td>\n",
       "      <td>-122.426995</td>\n",
       "      <td>37.800873</td>\n",
       "      <td>23:30</td>\n",
       "      <td>2015-05-13</td>\n",
       "    </tr>\n",
       "    <tr>\n",
       "      <th>4</th>\n",
       "      <td>2015-05-13 23:30:00</td>\n",
       "      <td>LARCENY/THEFT</td>\n",
       "      <td>GRAND THEFT FROM LOCKED AUTO</td>\n",
       "      <td>Wednesday</td>\n",
       "      <td>PARK</td>\n",
       "      <td>NONE</td>\n",
       "      <td>100 Block of BRODERICK ST</td>\n",
       "      <td>-122.438738</td>\n",
       "      <td>37.771541</td>\n",
       "      <td>23:30</td>\n",
       "      <td>2015-05-13</td>\n",
       "    </tr>\n",
       "  </tbody>\n",
       "</table>\n",
       "</div>"
      ],
      "text/plain": [
       "                Dates        Category                      Descript  \\\n",
       "0 2015-05-13 23:53:00        WARRANTS                WARRANT ARREST   \n",
       "1 2015-05-13 23:53:00  OTHER OFFENSES      TRAFFIC VIOLATION ARREST   \n",
       "2 2015-05-13 23:33:00  OTHER OFFENSES      TRAFFIC VIOLATION ARREST   \n",
       "3 2015-05-13 23:30:00   LARCENY/THEFT  GRAND THEFT FROM LOCKED AUTO   \n",
       "4 2015-05-13 23:30:00   LARCENY/THEFT  GRAND THEFT FROM LOCKED AUTO   \n",
       "\n",
       "   DayOfWeek PdDistrict      Resolution                    Address  \\\n",
       "0  Wednesday   NORTHERN  ARREST, BOOKED         OAK ST / LAGUNA ST   \n",
       "1  Wednesday   NORTHERN  ARREST, BOOKED         OAK ST / LAGUNA ST   \n",
       "2  Wednesday   NORTHERN  ARREST, BOOKED  VANNESS AV / GREENWICH ST   \n",
       "3  Wednesday   NORTHERN            NONE   1500 Block of LOMBARD ST   \n",
       "4  Wednesday       PARK            NONE  100 Block of BRODERICK ST   \n",
       "\n",
       "            X          Y  Times        Date  \n",
       "0 -122.425892  37.774599  23:53  2015-05-13  \n",
       "1 -122.425892  37.774599  23:53  2015-05-13  \n",
       "2 -122.424363  37.800414  23:33  2015-05-13  \n",
       "3 -122.426995  37.800873  23:30  2015-05-13  \n",
       "4 -122.438738  37.771541  23:30  2015-05-13  "
      ]
     },
     "execution_count": 24,
     "metadata": {},
     "output_type": "execute_result"
    }
   ],
   "source": [
    "train_df.head()"
   ]
  },
  {
   "cell_type": "code",
   "execution_count": 25,
   "metadata": {},
   "outputs": [],
   "source": [
    "test_df['Dates'] = pd.to_datetime(test_df.Dates)"
   ]
  },
  {
   "cell_type": "code",
   "execution_count": 26,
   "metadata": {},
   "outputs": [
    {
     "data": {
      "text/plain": [
       "0        2015-05-10 23:59:00\n",
       "1        2015-05-10 23:51:00\n",
       "2        2015-05-10 23:50:00\n",
       "3        2015-05-10 23:45:00\n",
       "4        2015-05-10 23:45:00\n",
       "                 ...        \n",
       "884257   2003-01-01 00:01:00\n",
       "884258   2003-01-01 00:01:00\n",
       "884259   2003-01-01 00:01:00\n",
       "884260   2003-01-01 00:01:00\n",
       "884261   2003-01-01 00:01:00\n",
       "Name: Dates, Length: 884262, dtype: datetime64[ns]"
      ]
     },
     "execution_count": 26,
     "metadata": {},
     "output_type": "execute_result"
    }
   ],
   "source": [
    "test_df['Dates']"
   ]
  },
  {
   "cell_type": "code",
   "execution_count": 27,
   "metadata": {},
   "outputs": [],
   "source": [
    "test_df['Times'] = test_df['Dates'].dt.strftime('%H:%M')\n",
    "test_df['Date'] = test_df['Dates'].dt.date"
   ]
  },
  {
   "cell_type": "code",
   "execution_count": 28,
   "metadata": {},
   "outputs": [
    {
     "data": {
      "text/html": [
       "<div>\n",
       "<style scoped>\n",
       "    .dataframe tbody tr th:only-of-type {\n",
       "        vertical-align: middle;\n",
       "    }\n",
       "\n",
       "    .dataframe tbody tr th {\n",
       "        vertical-align: top;\n",
       "    }\n",
       "\n",
       "    .dataframe thead th {\n",
       "        text-align: right;\n",
       "    }\n",
       "</style>\n",
       "<table border=\"1\" class=\"dataframe\">\n",
       "  <thead>\n",
       "    <tr style=\"text-align: right;\">\n",
       "      <th></th>\n",
       "      <th>Id</th>\n",
       "      <th>Dates</th>\n",
       "      <th>DayOfWeek</th>\n",
       "      <th>PdDistrict</th>\n",
       "      <th>Address</th>\n",
       "      <th>X</th>\n",
       "      <th>Y</th>\n",
       "      <th>Times</th>\n",
       "      <th>Date</th>\n",
       "    </tr>\n",
       "  </thead>\n",
       "  <tbody>\n",
       "    <tr>\n",
       "      <th>0</th>\n",
       "      <td>0</td>\n",
       "      <td>2015-05-10 23:59:00</td>\n",
       "      <td>Sunday</td>\n",
       "      <td>BAYVIEW</td>\n",
       "      <td>2000 Block of THOMAS AV</td>\n",
       "      <td>-122.399588</td>\n",
       "      <td>37.735051</td>\n",
       "      <td>23:59</td>\n",
       "      <td>2015-05-10</td>\n",
       "    </tr>\n",
       "    <tr>\n",
       "      <th>1</th>\n",
       "      <td>1</td>\n",
       "      <td>2015-05-10 23:51:00</td>\n",
       "      <td>Sunday</td>\n",
       "      <td>BAYVIEW</td>\n",
       "      <td>3RD ST / REVERE AV</td>\n",
       "      <td>-122.391523</td>\n",
       "      <td>37.732432</td>\n",
       "      <td>23:51</td>\n",
       "      <td>2015-05-10</td>\n",
       "    </tr>\n",
       "    <tr>\n",
       "      <th>2</th>\n",
       "      <td>2</td>\n",
       "      <td>2015-05-10 23:50:00</td>\n",
       "      <td>Sunday</td>\n",
       "      <td>NORTHERN</td>\n",
       "      <td>2000 Block of GOUGH ST</td>\n",
       "      <td>-122.426002</td>\n",
       "      <td>37.792212</td>\n",
       "      <td>23:50</td>\n",
       "      <td>2015-05-10</td>\n",
       "    </tr>\n",
       "    <tr>\n",
       "      <th>3</th>\n",
       "      <td>3</td>\n",
       "      <td>2015-05-10 23:45:00</td>\n",
       "      <td>Sunday</td>\n",
       "      <td>INGLESIDE</td>\n",
       "      <td>4700 Block of MISSION ST</td>\n",
       "      <td>-122.437394</td>\n",
       "      <td>37.721412</td>\n",
       "      <td>23:45</td>\n",
       "      <td>2015-05-10</td>\n",
       "    </tr>\n",
       "    <tr>\n",
       "      <th>4</th>\n",
       "      <td>4</td>\n",
       "      <td>2015-05-10 23:45:00</td>\n",
       "      <td>Sunday</td>\n",
       "      <td>INGLESIDE</td>\n",
       "      <td>4700 Block of MISSION ST</td>\n",
       "      <td>-122.437394</td>\n",
       "      <td>37.721412</td>\n",
       "      <td>23:45</td>\n",
       "      <td>2015-05-10</td>\n",
       "    </tr>\n",
       "  </tbody>\n",
       "</table>\n",
       "</div>"
      ],
      "text/plain": [
       "   Id               Dates DayOfWeek PdDistrict                   Address  \\\n",
       "0   0 2015-05-10 23:59:00    Sunday    BAYVIEW   2000 Block of THOMAS AV   \n",
       "1   1 2015-05-10 23:51:00    Sunday    BAYVIEW        3RD ST / REVERE AV   \n",
       "2   2 2015-05-10 23:50:00    Sunday   NORTHERN    2000 Block of GOUGH ST   \n",
       "3   3 2015-05-10 23:45:00    Sunday  INGLESIDE  4700 Block of MISSION ST   \n",
       "4   4 2015-05-10 23:45:00    Sunday  INGLESIDE  4700 Block of MISSION ST   \n",
       "\n",
       "            X          Y  Times        Date  \n",
       "0 -122.399588  37.735051  23:59  2015-05-10  \n",
       "1 -122.391523  37.732432  23:51  2015-05-10  \n",
       "2 -122.426002  37.792212  23:50  2015-05-10  \n",
       "3 -122.437394  37.721412  23:45  2015-05-10  \n",
       "4 -122.437394  37.721412  23:45  2015-05-10  "
      ]
     },
     "execution_count": 28,
     "metadata": {},
     "output_type": "execute_result"
    }
   ],
   "source": [
    "test_df.head()"
   ]
  },
  {
   "cell_type": "code",
   "execution_count": 29,
   "metadata": {},
   "outputs": [],
   "source": [
    "train_df = train_df.drop(['Dates'], axis = 1)"
   ]
  },
  {
   "cell_type": "code",
   "execution_count": 30,
   "metadata": {},
   "outputs": [],
   "source": [
    "test_df = test_df.drop(['Dates'], axis = 1)"
   ]
  },
  {
   "cell_type": "code",
   "execution_count": 31,
   "metadata": {},
   "outputs": [],
   "source": [
    "combine = [train_df, test_df]"
   ]
  },
  {
   "cell_type": "code",
   "execution_count": 32,
   "metadata": {},
   "outputs": [
    {
     "data": {
      "text/plain": [
       "0         Wednesday\n",
       "1         Wednesday\n",
       "2         Wednesday\n",
       "3         Wednesday\n",
       "4         Wednesday\n",
       "            ...    \n",
       "878044       Monday\n",
       "878045       Monday\n",
       "878046       Monday\n",
       "878047       Monday\n",
       "878048       Monday\n",
       "Name: DayOfWeek, Length: 878049, dtype: object"
      ]
     },
     "execution_count": 32,
     "metadata": {},
     "output_type": "execute_result"
    }
   ],
   "source": [
    "train_df.DayOfWeek"
   ]
  },
  {
   "cell_type": "code",
   "execution_count": 33,
   "metadata": {},
   "outputs": [],
   "source": [
    "DayOfWeek_mapping = {'Monday':1, 'Tuesday':2, 'Wednesday':3, 'Thursday':4, 'Friday':5, 'Saturday':6, 'Sunday':7}\n",
    "for dataset in combine:\n",
    "    dataset['Day_of_Week'] = dataset['DayOfWeek'].map(DayOfWeek_mapping)"
   ]
  },
  {
   "cell_type": "code",
   "execution_count": 34,
   "metadata": {},
   "outputs": [],
   "source": [
    "train_df = train_df.drop(['DayOfWeek'], axis=1)"
   ]
  },
  {
   "cell_type": "code",
   "execution_count": 35,
   "metadata": {},
   "outputs": [],
   "source": [
    "test_df = test_df.drop(['DayOfWeek'], axis=1)"
   ]
  },
  {
   "cell_type": "code",
   "execution_count": 36,
   "metadata": {},
   "outputs": [],
   "source": [
    "combine = [train_df, test_df]"
   ]
  },
  {
   "cell_type": "code",
   "execution_count": 37,
   "metadata": {},
   "outputs": [],
   "source": [
    "District_mapping = {'SOUTHERN':1, 'MISSION':2, 'NORTHERN':3, 'BAYVIEW':4, 'CENTRAL':5, 'TENDERLOIN':6, 'INGLESIDE':7, 'TARAVAL':8, 'PARK':9, 'RICHMOND':10}\n",
    "for dataset in combine:\n",
    "    dataset['Pd_District'] = dataset['PdDistrict'].map(District_mapping)"
   ]
  },
  {
   "cell_type": "code",
   "execution_count": 38,
   "metadata": {},
   "outputs": [
    {
     "data": {
      "text/html": [
       "<div>\n",
       "<style scoped>\n",
       "    .dataframe tbody tr th:only-of-type {\n",
       "        vertical-align: middle;\n",
       "    }\n",
       "\n",
       "    .dataframe tbody tr th {\n",
       "        vertical-align: top;\n",
       "    }\n",
       "\n",
       "    .dataframe thead th {\n",
       "        text-align: right;\n",
       "    }\n",
       "</style>\n",
       "<table border=\"1\" class=\"dataframe\">\n",
       "  <thead>\n",
       "    <tr style=\"text-align: right;\">\n",
       "      <th></th>\n",
       "      <th>Category</th>\n",
       "      <th>Descript</th>\n",
       "      <th>Resolution</th>\n",
       "      <th>Address</th>\n",
       "      <th>X</th>\n",
       "      <th>Y</th>\n",
       "      <th>Times</th>\n",
       "      <th>Date</th>\n",
       "      <th>Day_of_Week</th>\n",
       "      <th>Pd_District</th>\n",
       "    </tr>\n",
       "  </thead>\n",
       "  <tbody>\n",
       "    <tr>\n",
       "      <th>0</th>\n",
       "      <td>WARRANTS</td>\n",
       "      <td>WARRANT ARREST</td>\n",
       "      <td>ARREST, BOOKED</td>\n",
       "      <td>OAK ST / LAGUNA ST</td>\n",
       "      <td>-122.425892</td>\n",
       "      <td>37.774599</td>\n",
       "      <td>23:53</td>\n",
       "      <td>2015-05-13</td>\n",
       "      <td>3</td>\n",
       "      <td>3</td>\n",
       "    </tr>\n",
       "    <tr>\n",
       "      <th>1</th>\n",
       "      <td>OTHER OFFENSES</td>\n",
       "      <td>TRAFFIC VIOLATION ARREST</td>\n",
       "      <td>ARREST, BOOKED</td>\n",
       "      <td>OAK ST / LAGUNA ST</td>\n",
       "      <td>-122.425892</td>\n",
       "      <td>37.774599</td>\n",
       "      <td>23:53</td>\n",
       "      <td>2015-05-13</td>\n",
       "      <td>3</td>\n",
       "      <td>3</td>\n",
       "    </tr>\n",
       "    <tr>\n",
       "      <th>2</th>\n",
       "      <td>OTHER OFFENSES</td>\n",
       "      <td>TRAFFIC VIOLATION ARREST</td>\n",
       "      <td>ARREST, BOOKED</td>\n",
       "      <td>VANNESS AV / GREENWICH ST</td>\n",
       "      <td>-122.424363</td>\n",
       "      <td>37.800414</td>\n",
       "      <td>23:33</td>\n",
       "      <td>2015-05-13</td>\n",
       "      <td>3</td>\n",
       "      <td>3</td>\n",
       "    </tr>\n",
       "    <tr>\n",
       "      <th>3</th>\n",
       "      <td>LARCENY/THEFT</td>\n",
       "      <td>GRAND THEFT FROM LOCKED AUTO</td>\n",
       "      <td>NONE</td>\n",
       "      <td>1500 Block of LOMBARD ST</td>\n",
       "      <td>-122.426995</td>\n",
       "      <td>37.800873</td>\n",
       "      <td>23:30</td>\n",
       "      <td>2015-05-13</td>\n",
       "      <td>3</td>\n",
       "      <td>3</td>\n",
       "    </tr>\n",
       "    <tr>\n",
       "      <th>4</th>\n",
       "      <td>LARCENY/THEFT</td>\n",
       "      <td>GRAND THEFT FROM LOCKED AUTO</td>\n",
       "      <td>NONE</td>\n",
       "      <td>100 Block of BRODERICK ST</td>\n",
       "      <td>-122.438738</td>\n",
       "      <td>37.771541</td>\n",
       "      <td>23:30</td>\n",
       "      <td>2015-05-13</td>\n",
       "      <td>3</td>\n",
       "      <td>9</td>\n",
       "    </tr>\n",
       "    <tr>\n",
       "      <th>...</th>\n",
       "      <td>...</td>\n",
       "      <td>...</td>\n",
       "      <td>...</td>\n",
       "      <td>...</td>\n",
       "      <td>...</td>\n",
       "      <td>...</td>\n",
       "      <td>...</td>\n",
       "      <td>...</td>\n",
       "      <td>...</td>\n",
       "      <td>...</td>\n",
       "    </tr>\n",
       "    <tr>\n",
       "      <th>878044</th>\n",
       "      <td>ROBBERY</td>\n",
       "      <td>ROBBERY ON THE STREET WITH A GUN</td>\n",
       "      <td>NONE</td>\n",
       "      <td>FARALLONES ST / CAPITOL AV</td>\n",
       "      <td>-122.459033</td>\n",
       "      <td>37.714056</td>\n",
       "      <td>00:15</td>\n",
       "      <td>2003-01-06</td>\n",
       "      <td>1</td>\n",
       "      <td>8</td>\n",
       "    </tr>\n",
       "    <tr>\n",
       "      <th>878045</th>\n",
       "      <td>LARCENY/THEFT</td>\n",
       "      <td>GRAND THEFT FROM LOCKED AUTO</td>\n",
       "      <td>NONE</td>\n",
       "      <td>600 Block of EDNA ST</td>\n",
       "      <td>-122.447364</td>\n",
       "      <td>37.731948</td>\n",
       "      <td>00:01</td>\n",
       "      <td>2003-01-06</td>\n",
       "      <td>1</td>\n",
       "      <td>7</td>\n",
       "    </tr>\n",
       "    <tr>\n",
       "      <th>878046</th>\n",
       "      <td>LARCENY/THEFT</td>\n",
       "      <td>GRAND THEFT FROM LOCKED AUTO</td>\n",
       "      <td>NONE</td>\n",
       "      <td>5TH ST / FOLSOM ST</td>\n",
       "      <td>-122.403390</td>\n",
       "      <td>37.780266</td>\n",
       "      <td>00:01</td>\n",
       "      <td>2003-01-06</td>\n",
       "      <td>1</td>\n",
       "      <td>1</td>\n",
       "    </tr>\n",
       "    <tr>\n",
       "      <th>878047</th>\n",
       "      <td>VANDALISM</td>\n",
       "      <td>MALICIOUS MISCHIEF, VANDALISM OF VEHICLES</td>\n",
       "      <td>NONE</td>\n",
       "      <td>TOWNSEND ST / 2ND ST</td>\n",
       "      <td>-122.390531</td>\n",
       "      <td>37.780607</td>\n",
       "      <td>00:01</td>\n",
       "      <td>2003-01-06</td>\n",
       "      <td>1</td>\n",
       "      <td>1</td>\n",
       "    </tr>\n",
       "    <tr>\n",
       "      <th>878048</th>\n",
       "      <td>FORGERY/COUNTERFEITING</td>\n",
       "      <td>CHECKS, FORGERY (FELONY)</td>\n",
       "      <td>NONE</td>\n",
       "      <td>1800 Block of NEWCOMB AV</td>\n",
       "      <td>-122.394926</td>\n",
       "      <td>37.738212</td>\n",
       "      <td>00:01</td>\n",
       "      <td>2003-01-06</td>\n",
       "      <td>1</td>\n",
       "      <td>4</td>\n",
       "    </tr>\n",
       "  </tbody>\n",
       "</table>\n",
       "<p>878049 rows × 10 columns</p>\n",
       "</div>"
      ],
      "text/plain": [
       "                      Category                                   Descript  \\\n",
       "0                     WARRANTS                             WARRANT ARREST   \n",
       "1               OTHER OFFENSES                   TRAFFIC VIOLATION ARREST   \n",
       "2               OTHER OFFENSES                   TRAFFIC VIOLATION ARREST   \n",
       "3                LARCENY/THEFT               GRAND THEFT FROM LOCKED AUTO   \n",
       "4                LARCENY/THEFT               GRAND THEFT FROM LOCKED AUTO   \n",
       "...                        ...                                        ...   \n",
       "878044                 ROBBERY           ROBBERY ON THE STREET WITH A GUN   \n",
       "878045           LARCENY/THEFT               GRAND THEFT FROM LOCKED AUTO   \n",
       "878046           LARCENY/THEFT               GRAND THEFT FROM LOCKED AUTO   \n",
       "878047               VANDALISM  MALICIOUS MISCHIEF, VANDALISM OF VEHICLES   \n",
       "878048  FORGERY/COUNTERFEITING                   CHECKS, FORGERY (FELONY)   \n",
       "\n",
       "            Resolution                     Address           X          Y  \\\n",
       "0       ARREST, BOOKED          OAK ST / LAGUNA ST -122.425892  37.774599   \n",
       "1       ARREST, BOOKED          OAK ST / LAGUNA ST -122.425892  37.774599   \n",
       "2       ARREST, BOOKED   VANNESS AV / GREENWICH ST -122.424363  37.800414   \n",
       "3                 NONE    1500 Block of LOMBARD ST -122.426995  37.800873   \n",
       "4                 NONE   100 Block of BRODERICK ST -122.438738  37.771541   \n",
       "...                ...                         ...         ...        ...   \n",
       "878044            NONE  FARALLONES ST / CAPITOL AV -122.459033  37.714056   \n",
       "878045            NONE        600 Block of EDNA ST -122.447364  37.731948   \n",
       "878046            NONE          5TH ST / FOLSOM ST -122.403390  37.780266   \n",
       "878047            NONE        TOWNSEND ST / 2ND ST -122.390531  37.780607   \n",
       "878048            NONE    1800 Block of NEWCOMB AV -122.394926  37.738212   \n",
       "\n",
       "        Times        Date  Day_of_Week  Pd_District  \n",
       "0       23:53  2015-05-13            3            3  \n",
       "1       23:53  2015-05-13            3            3  \n",
       "2       23:33  2015-05-13            3            3  \n",
       "3       23:30  2015-05-13            3            3  \n",
       "4       23:30  2015-05-13            3            9  \n",
       "...       ...         ...          ...          ...  \n",
       "878044  00:15  2003-01-06            1            8  \n",
       "878045  00:01  2003-01-06            1            7  \n",
       "878046  00:01  2003-01-06            1            1  \n",
       "878047  00:01  2003-01-06            1            1  \n",
       "878048  00:01  2003-01-06            1            4  \n",
       "\n",
       "[878049 rows x 10 columns]"
      ]
     },
     "execution_count": 38,
     "metadata": {},
     "output_type": "execute_result"
    }
   ],
   "source": [
    "train_df.drop(['PdDistrict'], axis=1)"
   ]
  },
  {
   "cell_type": "code",
   "execution_count": 39,
   "metadata": {},
   "outputs": [
    {
     "data": {
      "text/html": [
       "<div>\n",
       "<style scoped>\n",
       "    .dataframe tbody tr th:only-of-type {\n",
       "        vertical-align: middle;\n",
       "    }\n",
       "\n",
       "    .dataframe tbody tr th {\n",
       "        vertical-align: top;\n",
       "    }\n",
       "\n",
       "    .dataframe thead th {\n",
       "        text-align: right;\n",
       "    }\n",
       "</style>\n",
       "<table border=\"1\" class=\"dataframe\">\n",
       "  <thead>\n",
       "    <tr style=\"text-align: right;\">\n",
       "      <th></th>\n",
       "      <th>Id</th>\n",
       "      <th>Address</th>\n",
       "      <th>X</th>\n",
       "      <th>Y</th>\n",
       "      <th>Times</th>\n",
       "      <th>Date</th>\n",
       "      <th>Day_of_Week</th>\n",
       "      <th>Pd_District</th>\n",
       "    </tr>\n",
       "  </thead>\n",
       "  <tbody>\n",
       "    <tr>\n",
       "      <th>0</th>\n",
       "      <td>0</td>\n",
       "      <td>2000 Block of THOMAS AV</td>\n",
       "      <td>-122.399588</td>\n",
       "      <td>37.735051</td>\n",
       "      <td>23:59</td>\n",
       "      <td>2015-05-10</td>\n",
       "      <td>7</td>\n",
       "      <td>4</td>\n",
       "    </tr>\n",
       "    <tr>\n",
       "      <th>1</th>\n",
       "      <td>1</td>\n",
       "      <td>3RD ST / REVERE AV</td>\n",
       "      <td>-122.391523</td>\n",
       "      <td>37.732432</td>\n",
       "      <td>23:51</td>\n",
       "      <td>2015-05-10</td>\n",
       "      <td>7</td>\n",
       "      <td>4</td>\n",
       "    </tr>\n",
       "    <tr>\n",
       "      <th>2</th>\n",
       "      <td>2</td>\n",
       "      <td>2000 Block of GOUGH ST</td>\n",
       "      <td>-122.426002</td>\n",
       "      <td>37.792212</td>\n",
       "      <td>23:50</td>\n",
       "      <td>2015-05-10</td>\n",
       "      <td>7</td>\n",
       "      <td>3</td>\n",
       "    </tr>\n",
       "    <tr>\n",
       "      <th>3</th>\n",
       "      <td>3</td>\n",
       "      <td>4700 Block of MISSION ST</td>\n",
       "      <td>-122.437394</td>\n",
       "      <td>37.721412</td>\n",
       "      <td>23:45</td>\n",
       "      <td>2015-05-10</td>\n",
       "      <td>7</td>\n",
       "      <td>7</td>\n",
       "    </tr>\n",
       "    <tr>\n",
       "      <th>4</th>\n",
       "      <td>4</td>\n",
       "      <td>4700 Block of MISSION ST</td>\n",
       "      <td>-122.437394</td>\n",
       "      <td>37.721412</td>\n",
       "      <td>23:45</td>\n",
       "      <td>2015-05-10</td>\n",
       "      <td>7</td>\n",
       "      <td>7</td>\n",
       "    </tr>\n",
       "    <tr>\n",
       "      <th>...</th>\n",
       "      <td>...</td>\n",
       "      <td>...</td>\n",
       "      <td>...</td>\n",
       "      <td>...</td>\n",
       "      <td>...</td>\n",
       "      <td>...</td>\n",
       "      <td>...</td>\n",
       "      <td>...</td>\n",
       "    </tr>\n",
       "    <tr>\n",
       "      <th>884257</th>\n",
       "      <td>884257</td>\n",
       "      <td>2600 Block of BRYANT ST</td>\n",
       "      <td>-122.408983</td>\n",
       "      <td>37.751987</td>\n",
       "      <td>00:01</td>\n",
       "      <td>2003-01-01</td>\n",
       "      <td>3</td>\n",
       "      <td>2</td>\n",
       "    </tr>\n",
       "    <tr>\n",
       "      <th>884258</th>\n",
       "      <td>884258</td>\n",
       "      <td>1900 Block of WASHINGTON ST</td>\n",
       "      <td>-122.425342</td>\n",
       "      <td>37.792681</td>\n",
       "      <td>00:01</td>\n",
       "      <td>2003-01-01</td>\n",
       "      <td>3</td>\n",
       "      <td>3</td>\n",
       "    </tr>\n",
       "    <tr>\n",
       "      <th>884259</th>\n",
       "      <td>884259</td>\n",
       "      <td>5500 Block of MISSION ST</td>\n",
       "      <td>-122.445418</td>\n",
       "      <td>37.712075</td>\n",
       "      <td>00:01</td>\n",
       "      <td>2003-01-01</td>\n",
       "      <td>3</td>\n",
       "      <td>7</td>\n",
       "    </tr>\n",
       "    <tr>\n",
       "      <th>884260</th>\n",
       "      <td>884260</td>\n",
       "      <td>1500 Block of HUDSON AV</td>\n",
       "      <td>-122.387394</td>\n",
       "      <td>37.739479</td>\n",
       "      <td>00:01</td>\n",
       "      <td>2003-01-01</td>\n",
       "      <td>3</td>\n",
       "      <td>4</td>\n",
       "    </tr>\n",
       "    <tr>\n",
       "      <th>884261</th>\n",
       "      <td>884261</td>\n",
       "      <td>1500 Block of SLOAT BL</td>\n",
       "      <td>-122.489714</td>\n",
       "      <td>37.733950</td>\n",
       "      <td>00:01</td>\n",
       "      <td>2003-01-01</td>\n",
       "      <td>3</td>\n",
       "      <td>8</td>\n",
       "    </tr>\n",
       "  </tbody>\n",
       "</table>\n",
       "<p>884262 rows × 8 columns</p>\n",
       "</div>"
      ],
      "text/plain": [
       "            Id                      Address           X          Y  Times  \\\n",
       "0            0      2000 Block of THOMAS AV -122.399588  37.735051  23:59   \n",
       "1            1           3RD ST / REVERE AV -122.391523  37.732432  23:51   \n",
       "2            2       2000 Block of GOUGH ST -122.426002  37.792212  23:50   \n",
       "3            3     4700 Block of MISSION ST -122.437394  37.721412  23:45   \n",
       "4            4     4700 Block of MISSION ST -122.437394  37.721412  23:45   \n",
       "...        ...                          ...         ...        ...    ...   \n",
       "884257  884257      2600 Block of BRYANT ST -122.408983  37.751987  00:01   \n",
       "884258  884258  1900 Block of WASHINGTON ST -122.425342  37.792681  00:01   \n",
       "884259  884259     5500 Block of MISSION ST -122.445418  37.712075  00:01   \n",
       "884260  884260      1500 Block of HUDSON AV -122.387394  37.739479  00:01   \n",
       "884261  884261       1500 Block of SLOAT BL -122.489714  37.733950  00:01   \n",
       "\n",
       "              Date  Day_of_Week  Pd_District  \n",
       "0       2015-05-10            7            4  \n",
       "1       2015-05-10            7            4  \n",
       "2       2015-05-10            7            3  \n",
       "3       2015-05-10            7            7  \n",
       "4       2015-05-10            7            7  \n",
       "...            ...          ...          ...  \n",
       "884257  2003-01-01            3            2  \n",
       "884258  2003-01-01            3            3  \n",
       "884259  2003-01-01            3            7  \n",
       "884260  2003-01-01            3            4  \n",
       "884261  2003-01-01            3            8  \n",
       "\n",
       "[884262 rows x 8 columns]"
      ]
     },
     "execution_count": 39,
     "metadata": {},
     "output_type": "execute_result"
    }
   ],
   "source": [
    "test_df.drop(['PdDistrict'], axis=1)"
   ]
  },
  {
   "cell_type": "code",
   "execution_count": 40,
   "metadata": {},
   "outputs": [],
   "source": [
    "combine = [train_df, test_df]"
   ]
  },
  {
   "cell_type": "code",
   "execution_count": 41,
   "metadata": {},
   "outputs": [
    {
     "data": {
      "text/plain": [
       "NONE                                      526790\n",
       "ARREST, BOOKED                            206403\n",
       "ARREST, CITED                              77004\n",
       "LOCATED                                    17101\n",
       "PSYCHOPATHIC CASE                          14534\n",
       "UNFOUNDED                                   9585\n",
       "JUVENILE BOOKED                             5564\n",
       "COMPLAINANT REFUSES TO PROSECUTE            3976\n",
       "DISTRICT ATTORNEY REFUSES TO PROSECUTE      3934\n",
       "NOT PROSECUTED                              3714\n",
       "JUVENILE CITED                              3332\n",
       "PROSECUTED BY OUTSIDE AGENCY                2504\n",
       "EXCEPTIONAL CLEARANCE                       1530\n",
       "JUVENILE ADMONISHED                         1455\n",
       "JUVENILE DIVERTED                            355\n",
       "CLEARED-CONTACT JUVENILE FOR MORE INFO       217\n",
       "PROSECUTED FOR LESSER OFFENSE                 51\n",
       "Name: Resolution, dtype: int64"
      ]
     },
     "execution_count": 41,
     "metadata": {},
     "output_type": "execute_result"
    }
   ],
   "source": [
    "train_df.Resolution.value_counts()"
   ]
  },
  {
   "cell_type": "code",
   "execution_count": 42,
   "metadata": {},
   "outputs": [
    {
     "data": {
      "text/plain": [
       "['WARRANTS',\n",
       " 'OTHER OFFENSES',\n",
       " 'LARCENY/THEFT',\n",
       " 'VEHICLE THEFT',\n",
       " 'VANDALISM',\n",
       " 'NON-CRIMINAL',\n",
       " 'ROBBERY',\n",
       " 'ASSAULT',\n",
       " 'WEAPON LAWS',\n",
       " 'BURGLARY',\n",
       " 'SUSPICIOUS OCC',\n",
       " 'DRUNKENNESS',\n",
       " 'FORGERY/COUNTERFEITING',\n",
       " 'DRUG/NARCOTIC',\n",
       " 'STOLEN PROPERTY',\n",
       " 'SECONDARY CODES',\n",
       " 'TRESPASS',\n",
       " 'MISSING PERSON',\n",
       " 'FRAUD',\n",
       " 'KIDNAPPING',\n",
       " 'RUNAWAY',\n",
       " 'DRIVING UNDER THE INFLUENCE',\n",
       " 'SEX OFFENSES FORCIBLE',\n",
       " 'PROSTITUTION',\n",
       " 'DISORDERLY CONDUCT',\n",
       " 'ARSON',\n",
       " 'FAMILY OFFENSES',\n",
       " 'LIQUOR LAWS',\n",
       " 'BRIBERY',\n",
       " 'EMBEZZLEMENT',\n",
       " 'SUICIDE',\n",
       " 'LOITERING',\n",
       " 'SEX OFFENSES NON FORCIBLE',\n",
       " 'EXTORTION',\n",
       " 'GAMBLING',\n",
       " 'BAD CHECKS',\n",
       " 'TREA',\n",
       " 'RECOVERED VEHICLE',\n",
       " 'PORNOGRAPHY/OBSCENE MAT']"
      ]
     },
     "execution_count": 42,
     "metadata": {},
     "output_type": "execute_result"
    }
   ],
   "source": [
    "unique_categories = list(train_df['Category'].unique())\n",
    "unique_categories"
   ]
  },
  {
   "cell_type": "code",
   "execution_count": 43,
   "metadata": {},
   "outputs": [
    {
     "data": {
      "text/plain": [
       "{'WARRANTS': 1,\n",
       " 'OTHER OFFENSES': 2,\n",
       " 'LARCENY/THEFT': 3,\n",
       " 'VEHICLE THEFT': 4,\n",
       " 'VANDALISM': 5,\n",
       " 'NON-CRIMINAL': 6,\n",
       " 'ROBBERY': 7,\n",
       " 'ASSAULT': 8,\n",
       " 'WEAPON LAWS': 9,\n",
       " 'BURGLARY': 10,\n",
       " 'SUSPICIOUS OCC': 11,\n",
       " 'DRUNKENNESS': 12,\n",
       " 'FORGERY/COUNTERFEITING': 13,\n",
       " 'DRUG/NARCOTIC': 14,\n",
       " 'STOLEN PROPERTY': 15,\n",
       " 'SECONDARY CODES': 16,\n",
       " 'TRESPASS': 17,\n",
       " 'MISSING PERSON': 18,\n",
       " 'FRAUD': 19,\n",
       " 'KIDNAPPING': 20,\n",
       " 'RUNAWAY': 21,\n",
       " 'DRIVING UNDER THE INFLUENCE': 22,\n",
       " 'SEX OFFENSES FORCIBLE': 23,\n",
       " 'PROSTITUTION': 24,\n",
       " 'DISORDERLY CONDUCT': 25,\n",
       " 'ARSON': 26,\n",
       " 'FAMILY OFFENSES': 27,\n",
       " 'LIQUOR LAWS': 28,\n",
       " 'BRIBERY': 29,\n",
       " 'EMBEZZLEMENT': 30,\n",
       " 'SUICIDE': 31,\n",
       " 'LOITERING': 32,\n",
       " 'SEX OFFENSES NON FORCIBLE': 33,\n",
       " 'EXTORTION': 34,\n",
       " 'GAMBLING': 35,\n",
       " 'BAD CHECKS': 36,\n",
       " 'TREA': 37,\n",
       " 'RECOVERED VEHICLE': 38,\n",
       " 'PORNOGRAPHY/OBSCENE MAT': 39}"
      ]
     },
     "execution_count": 43,
     "metadata": {},
     "output_type": "execute_result"
    }
   ],
   "source": [
    "my_categories = {}\n",
    "\n",
    "categories_count = 0\n",
    "\n",
    "for i_category in unique_categories:\n",
    "    \n",
    "    categories_count = categories_count + 1\n",
    "    my_categories[i_category] = categories_count\n",
    "    \n",
    "my_categories"
   ]
  },
  {
   "cell_type": "code",
   "execution_count": 44,
   "metadata": {},
   "outputs": [
    {
     "data": {
      "text/html": [
       "<div>\n",
       "<style scoped>\n",
       "    .dataframe tbody tr th:only-of-type {\n",
       "        vertical-align: middle;\n",
       "    }\n",
       "\n",
       "    .dataframe tbody tr th {\n",
       "        vertical-align: top;\n",
       "    }\n",
       "\n",
       "    .dataframe thead th {\n",
       "        text-align: right;\n",
       "    }\n",
       "</style>\n",
       "<table border=\"1\" class=\"dataframe\">\n",
       "  <thead>\n",
       "    <tr style=\"text-align: right;\">\n",
       "      <th></th>\n",
       "      <th>Category</th>\n",
       "      <th>Descript</th>\n",
       "      <th>PdDistrict</th>\n",
       "      <th>Resolution</th>\n",
       "      <th>Address</th>\n",
       "      <th>X</th>\n",
       "      <th>Y</th>\n",
       "      <th>Times</th>\n",
       "      <th>Date</th>\n",
       "      <th>Day_of_Week</th>\n",
       "      <th>Pd_District</th>\n",
       "    </tr>\n",
       "  </thead>\n",
       "  <tbody>\n",
       "    <tr>\n",
       "      <th>0</th>\n",
       "      <td>WARRANTS</td>\n",
       "      <td>WARRANT ARREST</td>\n",
       "      <td>NORTHERN</td>\n",
       "      <td>ARREST, BOOKED</td>\n",
       "      <td>OAK ST / LAGUNA ST</td>\n",
       "      <td>-122.425892</td>\n",
       "      <td>37.774599</td>\n",
       "      <td>23:53</td>\n",
       "      <td>2015-05-13</td>\n",
       "      <td>3</td>\n",
       "      <td>3</td>\n",
       "    </tr>\n",
       "    <tr>\n",
       "      <th>1</th>\n",
       "      <td>OTHER OFFENSES</td>\n",
       "      <td>TRAFFIC VIOLATION ARREST</td>\n",
       "      <td>NORTHERN</td>\n",
       "      <td>ARREST, BOOKED</td>\n",
       "      <td>OAK ST / LAGUNA ST</td>\n",
       "      <td>-122.425892</td>\n",
       "      <td>37.774599</td>\n",
       "      <td>23:53</td>\n",
       "      <td>2015-05-13</td>\n",
       "      <td>3</td>\n",
       "      <td>3</td>\n",
       "    </tr>\n",
       "    <tr>\n",
       "      <th>2</th>\n",
       "      <td>OTHER OFFENSES</td>\n",
       "      <td>TRAFFIC VIOLATION ARREST</td>\n",
       "      <td>NORTHERN</td>\n",
       "      <td>ARREST, BOOKED</td>\n",
       "      <td>VANNESS AV / GREENWICH ST</td>\n",
       "      <td>-122.424363</td>\n",
       "      <td>37.800414</td>\n",
       "      <td>23:33</td>\n",
       "      <td>2015-05-13</td>\n",
       "      <td>3</td>\n",
       "      <td>3</td>\n",
       "    </tr>\n",
       "    <tr>\n",
       "      <th>3</th>\n",
       "      <td>LARCENY/THEFT</td>\n",
       "      <td>GRAND THEFT FROM LOCKED AUTO</td>\n",
       "      <td>NORTHERN</td>\n",
       "      <td>NONE</td>\n",
       "      <td>1500 Block of LOMBARD ST</td>\n",
       "      <td>-122.426995</td>\n",
       "      <td>37.800873</td>\n",
       "      <td>23:30</td>\n",
       "      <td>2015-05-13</td>\n",
       "      <td>3</td>\n",
       "      <td>3</td>\n",
       "    </tr>\n",
       "    <tr>\n",
       "      <th>4</th>\n",
       "      <td>LARCENY/THEFT</td>\n",
       "      <td>GRAND THEFT FROM LOCKED AUTO</td>\n",
       "      <td>PARK</td>\n",
       "      <td>NONE</td>\n",
       "      <td>100 Block of BRODERICK ST</td>\n",
       "      <td>-122.438738</td>\n",
       "      <td>37.771541</td>\n",
       "      <td>23:30</td>\n",
       "      <td>2015-05-13</td>\n",
       "      <td>3</td>\n",
       "      <td>9</td>\n",
       "    </tr>\n",
       "  </tbody>\n",
       "</table>\n",
       "</div>"
      ],
      "text/plain": [
       "         Category                      Descript PdDistrict      Resolution  \\\n",
       "0        WARRANTS                WARRANT ARREST   NORTHERN  ARREST, BOOKED   \n",
       "1  OTHER OFFENSES      TRAFFIC VIOLATION ARREST   NORTHERN  ARREST, BOOKED   \n",
       "2  OTHER OFFENSES      TRAFFIC VIOLATION ARREST   NORTHERN  ARREST, BOOKED   \n",
       "3   LARCENY/THEFT  GRAND THEFT FROM LOCKED AUTO   NORTHERN            NONE   \n",
       "4   LARCENY/THEFT  GRAND THEFT FROM LOCKED AUTO       PARK            NONE   \n",
       "\n",
       "                     Address           X          Y  Times        Date  \\\n",
       "0         OAK ST / LAGUNA ST -122.425892  37.774599  23:53  2015-05-13   \n",
       "1         OAK ST / LAGUNA ST -122.425892  37.774599  23:53  2015-05-13   \n",
       "2  VANNESS AV / GREENWICH ST -122.424363  37.800414  23:33  2015-05-13   \n",
       "3   1500 Block of LOMBARD ST -122.426995  37.800873  23:30  2015-05-13   \n",
       "4  100 Block of BRODERICK ST -122.438738  37.771541  23:30  2015-05-13   \n",
       "\n",
       "   Day_of_Week  Pd_District  \n",
       "0            3            3  \n",
       "1            3            3  \n",
       "2            3            3  \n",
       "3            3            3  \n",
       "4            3            9  "
      ]
     },
     "execution_count": 44,
     "metadata": {},
     "output_type": "execute_result"
    }
   ],
   "source": [
    "train_df.head()"
   ]
  },
  {
   "cell_type": "code",
   "execution_count": 45,
   "metadata": {},
   "outputs": [],
   "source": [
    "train_df['Category'] = train_df['Category'].map(my_categories)"
   ]
  },
  {
   "cell_type": "code",
   "execution_count": 46,
   "metadata": {},
   "outputs": [
    {
     "data": {
      "text/html": [
       "<div>\n",
       "<style scoped>\n",
       "    .dataframe tbody tr th:only-of-type {\n",
       "        vertical-align: middle;\n",
       "    }\n",
       "\n",
       "    .dataframe tbody tr th {\n",
       "        vertical-align: top;\n",
       "    }\n",
       "\n",
       "    .dataframe thead th {\n",
       "        text-align: right;\n",
       "    }\n",
       "</style>\n",
       "<table border=\"1\" class=\"dataframe\">\n",
       "  <thead>\n",
       "    <tr style=\"text-align: right;\">\n",
       "      <th></th>\n",
       "      <th>Category</th>\n",
       "      <th>Descript</th>\n",
       "      <th>PdDistrict</th>\n",
       "      <th>Resolution</th>\n",
       "      <th>Address</th>\n",
       "      <th>X</th>\n",
       "      <th>Y</th>\n",
       "      <th>Times</th>\n",
       "      <th>Date</th>\n",
       "      <th>Day_of_Week</th>\n",
       "      <th>Pd_District</th>\n",
       "    </tr>\n",
       "  </thead>\n",
       "  <tbody>\n",
       "    <tr>\n",
       "      <th>0</th>\n",
       "      <td>1</td>\n",
       "      <td>WARRANT ARREST</td>\n",
       "      <td>NORTHERN</td>\n",
       "      <td>ARREST, BOOKED</td>\n",
       "      <td>OAK ST / LAGUNA ST</td>\n",
       "      <td>-122.425892</td>\n",
       "      <td>37.774599</td>\n",
       "      <td>23:53</td>\n",
       "      <td>2015-05-13</td>\n",
       "      <td>3</td>\n",
       "      <td>3</td>\n",
       "    </tr>\n",
       "    <tr>\n",
       "      <th>1</th>\n",
       "      <td>2</td>\n",
       "      <td>TRAFFIC VIOLATION ARREST</td>\n",
       "      <td>NORTHERN</td>\n",
       "      <td>ARREST, BOOKED</td>\n",
       "      <td>OAK ST / LAGUNA ST</td>\n",
       "      <td>-122.425892</td>\n",
       "      <td>37.774599</td>\n",
       "      <td>23:53</td>\n",
       "      <td>2015-05-13</td>\n",
       "      <td>3</td>\n",
       "      <td>3</td>\n",
       "    </tr>\n",
       "    <tr>\n",
       "      <th>2</th>\n",
       "      <td>2</td>\n",
       "      <td>TRAFFIC VIOLATION ARREST</td>\n",
       "      <td>NORTHERN</td>\n",
       "      <td>ARREST, BOOKED</td>\n",
       "      <td>VANNESS AV / GREENWICH ST</td>\n",
       "      <td>-122.424363</td>\n",
       "      <td>37.800414</td>\n",
       "      <td>23:33</td>\n",
       "      <td>2015-05-13</td>\n",
       "      <td>3</td>\n",
       "      <td>3</td>\n",
       "    </tr>\n",
       "    <tr>\n",
       "      <th>3</th>\n",
       "      <td>3</td>\n",
       "      <td>GRAND THEFT FROM LOCKED AUTO</td>\n",
       "      <td>NORTHERN</td>\n",
       "      <td>NONE</td>\n",
       "      <td>1500 Block of LOMBARD ST</td>\n",
       "      <td>-122.426995</td>\n",
       "      <td>37.800873</td>\n",
       "      <td>23:30</td>\n",
       "      <td>2015-05-13</td>\n",
       "      <td>3</td>\n",
       "      <td>3</td>\n",
       "    </tr>\n",
       "    <tr>\n",
       "      <th>4</th>\n",
       "      <td>3</td>\n",
       "      <td>GRAND THEFT FROM LOCKED AUTO</td>\n",
       "      <td>PARK</td>\n",
       "      <td>NONE</td>\n",
       "      <td>100 Block of BRODERICK ST</td>\n",
       "      <td>-122.438738</td>\n",
       "      <td>37.771541</td>\n",
       "      <td>23:30</td>\n",
       "      <td>2015-05-13</td>\n",
       "      <td>3</td>\n",
       "      <td>9</td>\n",
       "    </tr>\n",
       "  </tbody>\n",
       "</table>\n",
       "</div>"
      ],
      "text/plain": [
       "   Category                      Descript PdDistrict      Resolution  \\\n",
       "0         1                WARRANT ARREST   NORTHERN  ARREST, BOOKED   \n",
       "1         2      TRAFFIC VIOLATION ARREST   NORTHERN  ARREST, BOOKED   \n",
       "2         2      TRAFFIC VIOLATION ARREST   NORTHERN  ARREST, BOOKED   \n",
       "3         3  GRAND THEFT FROM LOCKED AUTO   NORTHERN            NONE   \n",
       "4         3  GRAND THEFT FROM LOCKED AUTO       PARK            NONE   \n",
       "\n",
       "                     Address           X          Y  Times        Date  \\\n",
       "0         OAK ST / LAGUNA ST -122.425892  37.774599  23:53  2015-05-13   \n",
       "1         OAK ST / LAGUNA ST -122.425892  37.774599  23:53  2015-05-13   \n",
       "2  VANNESS AV / GREENWICH ST -122.424363  37.800414  23:33  2015-05-13   \n",
       "3   1500 Block of LOMBARD ST -122.426995  37.800873  23:30  2015-05-13   \n",
       "4  100 Block of BRODERICK ST -122.438738  37.771541  23:30  2015-05-13   \n",
       "\n",
       "   Day_of_Week  Pd_District  \n",
       "0            3            3  \n",
       "1            3            3  \n",
       "2            3            3  \n",
       "3            3            3  \n",
       "4            3            9  "
      ]
     },
     "execution_count": 46,
     "metadata": {},
     "output_type": "execute_result"
    }
   ],
   "source": [
    "train_df.head()"
   ]
  },
  {
   "cell_type": "code",
   "execution_count": 47,
   "metadata": {},
   "outputs": [
    {
     "data": {
      "text/html": [
       "<div>\n",
       "<style scoped>\n",
       "    .dataframe tbody tr th:only-of-type {\n",
       "        vertical-align: middle;\n",
       "    }\n",
       "\n",
       "    .dataframe tbody tr th {\n",
       "        vertical-align: top;\n",
       "    }\n",
       "\n",
       "    .dataframe thead th {\n",
       "        text-align: right;\n",
       "    }\n",
       "</style>\n",
       "<table border=\"1\" class=\"dataframe\">\n",
       "  <thead>\n",
       "    <tr style=\"text-align: right;\">\n",
       "      <th></th>\n",
       "      <th>Category</th>\n",
       "      <th>Descript</th>\n",
       "      <th>Resolution</th>\n",
       "      <th>Address</th>\n",
       "      <th>X</th>\n",
       "      <th>Y</th>\n",
       "      <th>Times</th>\n",
       "      <th>Date</th>\n",
       "      <th>Day_of_Week</th>\n",
       "      <th>Pd_District</th>\n",
       "    </tr>\n",
       "  </thead>\n",
       "  <tbody>\n",
       "    <tr>\n",
       "      <th>0</th>\n",
       "      <td>1</td>\n",
       "      <td>WARRANT ARREST</td>\n",
       "      <td>ARREST, BOOKED</td>\n",
       "      <td>OAK ST / LAGUNA ST</td>\n",
       "      <td>-122.425892</td>\n",
       "      <td>37.774599</td>\n",
       "      <td>23:53</td>\n",
       "      <td>2015-05-13</td>\n",
       "      <td>3</td>\n",
       "      <td>3</td>\n",
       "    </tr>\n",
       "    <tr>\n",
       "      <th>1</th>\n",
       "      <td>2</td>\n",
       "      <td>TRAFFIC VIOLATION ARREST</td>\n",
       "      <td>ARREST, BOOKED</td>\n",
       "      <td>OAK ST / LAGUNA ST</td>\n",
       "      <td>-122.425892</td>\n",
       "      <td>37.774599</td>\n",
       "      <td>23:53</td>\n",
       "      <td>2015-05-13</td>\n",
       "      <td>3</td>\n",
       "      <td>3</td>\n",
       "    </tr>\n",
       "    <tr>\n",
       "      <th>2</th>\n",
       "      <td>2</td>\n",
       "      <td>TRAFFIC VIOLATION ARREST</td>\n",
       "      <td>ARREST, BOOKED</td>\n",
       "      <td>VANNESS AV / GREENWICH ST</td>\n",
       "      <td>-122.424363</td>\n",
       "      <td>37.800414</td>\n",
       "      <td>23:33</td>\n",
       "      <td>2015-05-13</td>\n",
       "      <td>3</td>\n",
       "      <td>3</td>\n",
       "    </tr>\n",
       "    <tr>\n",
       "      <th>3</th>\n",
       "      <td>3</td>\n",
       "      <td>GRAND THEFT FROM LOCKED AUTO</td>\n",
       "      <td>NONE</td>\n",
       "      <td>1500 Block of LOMBARD ST</td>\n",
       "      <td>-122.426995</td>\n",
       "      <td>37.800873</td>\n",
       "      <td>23:30</td>\n",
       "      <td>2015-05-13</td>\n",
       "      <td>3</td>\n",
       "      <td>3</td>\n",
       "    </tr>\n",
       "    <tr>\n",
       "      <th>4</th>\n",
       "      <td>3</td>\n",
       "      <td>GRAND THEFT FROM LOCKED AUTO</td>\n",
       "      <td>NONE</td>\n",
       "      <td>100 Block of BRODERICK ST</td>\n",
       "      <td>-122.438738</td>\n",
       "      <td>37.771541</td>\n",
       "      <td>23:30</td>\n",
       "      <td>2015-05-13</td>\n",
       "      <td>3</td>\n",
       "      <td>9</td>\n",
       "    </tr>\n",
       "    <tr>\n",
       "      <th>...</th>\n",
       "      <td>...</td>\n",
       "      <td>...</td>\n",
       "      <td>...</td>\n",
       "      <td>...</td>\n",
       "      <td>...</td>\n",
       "      <td>...</td>\n",
       "      <td>...</td>\n",
       "      <td>...</td>\n",
       "      <td>...</td>\n",
       "      <td>...</td>\n",
       "    </tr>\n",
       "    <tr>\n",
       "      <th>878044</th>\n",
       "      <td>7</td>\n",
       "      <td>ROBBERY ON THE STREET WITH A GUN</td>\n",
       "      <td>NONE</td>\n",
       "      <td>FARALLONES ST / CAPITOL AV</td>\n",
       "      <td>-122.459033</td>\n",
       "      <td>37.714056</td>\n",
       "      <td>00:15</td>\n",
       "      <td>2003-01-06</td>\n",
       "      <td>1</td>\n",
       "      <td>8</td>\n",
       "    </tr>\n",
       "    <tr>\n",
       "      <th>878045</th>\n",
       "      <td>3</td>\n",
       "      <td>GRAND THEFT FROM LOCKED AUTO</td>\n",
       "      <td>NONE</td>\n",
       "      <td>600 Block of EDNA ST</td>\n",
       "      <td>-122.447364</td>\n",
       "      <td>37.731948</td>\n",
       "      <td>00:01</td>\n",
       "      <td>2003-01-06</td>\n",
       "      <td>1</td>\n",
       "      <td>7</td>\n",
       "    </tr>\n",
       "    <tr>\n",
       "      <th>878046</th>\n",
       "      <td>3</td>\n",
       "      <td>GRAND THEFT FROM LOCKED AUTO</td>\n",
       "      <td>NONE</td>\n",
       "      <td>5TH ST / FOLSOM ST</td>\n",
       "      <td>-122.403390</td>\n",
       "      <td>37.780266</td>\n",
       "      <td>00:01</td>\n",
       "      <td>2003-01-06</td>\n",
       "      <td>1</td>\n",
       "      <td>1</td>\n",
       "    </tr>\n",
       "    <tr>\n",
       "      <th>878047</th>\n",
       "      <td>5</td>\n",
       "      <td>MALICIOUS MISCHIEF, VANDALISM OF VEHICLES</td>\n",
       "      <td>NONE</td>\n",
       "      <td>TOWNSEND ST / 2ND ST</td>\n",
       "      <td>-122.390531</td>\n",
       "      <td>37.780607</td>\n",
       "      <td>00:01</td>\n",
       "      <td>2003-01-06</td>\n",
       "      <td>1</td>\n",
       "      <td>1</td>\n",
       "    </tr>\n",
       "    <tr>\n",
       "      <th>878048</th>\n",
       "      <td>13</td>\n",
       "      <td>CHECKS, FORGERY (FELONY)</td>\n",
       "      <td>NONE</td>\n",
       "      <td>1800 Block of NEWCOMB AV</td>\n",
       "      <td>-122.394926</td>\n",
       "      <td>37.738212</td>\n",
       "      <td>00:01</td>\n",
       "      <td>2003-01-06</td>\n",
       "      <td>1</td>\n",
       "      <td>4</td>\n",
       "    </tr>\n",
       "  </tbody>\n",
       "</table>\n",
       "<p>878049 rows × 10 columns</p>\n",
       "</div>"
      ],
      "text/plain": [
       "        Category                                   Descript      Resolution  \\\n",
       "0              1                             WARRANT ARREST  ARREST, BOOKED   \n",
       "1              2                   TRAFFIC VIOLATION ARREST  ARREST, BOOKED   \n",
       "2              2                   TRAFFIC VIOLATION ARREST  ARREST, BOOKED   \n",
       "3              3               GRAND THEFT FROM LOCKED AUTO            NONE   \n",
       "4              3               GRAND THEFT FROM LOCKED AUTO            NONE   \n",
       "...          ...                                        ...             ...   \n",
       "878044         7           ROBBERY ON THE STREET WITH A GUN            NONE   \n",
       "878045         3               GRAND THEFT FROM LOCKED AUTO            NONE   \n",
       "878046         3               GRAND THEFT FROM LOCKED AUTO            NONE   \n",
       "878047         5  MALICIOUS MISCHIEF, VANDALISM OF VEHICLES            NONE   \n",
       "878048        13                   CHECKS, FORGERY (FELONY)            NONE   \n",
       "\n",
       "                           Address           X          Y  Times        Date  \\\n",
       "0               OAK ST / LAGUNA ST -122.425892  37.774599  23:53  2015-05-13   \n",
       "1               OAK ST / LAGUNA ST -122.425892  37.774599  23:53  2015-05-13   \n",
       "2        VANNESS AV / GREENWICH ST -122.424363  37.800414  23:33  2015-05-13   \n",
       "3         1500 Block of LOMBARD ST -122.426995  37.800873  23:30  2015-05-13   \n",
       "4        100 Block of BRODERICK ST -122.438738  37.771541  23:30  2015-05-13   \n",
       "...                            ...         ...        ...    ...         ...   \n",
       "878044  FARALLONES ST / CAPITOL AV -122.459033  37.714056  00:15  2003-01-06   \n",
       "878045        600 Block of EDNA ST -122.447364  37.731948  00:01  2003-01-06   \n",
       "878046          5TH ST / FOLSOM ST -122.403390  37.780266  00:01  2003-01-06   \n",
       "878047        TOWNSEND ST / 2ND ST -122.390531  37.780607  00:01  2003-01-06   \n",
       "878048    1800 Block of NEWCOMB AV -122.394926  37.738212  00:01  2003-01-06   \n",
       "\n",
       "        Day_of_Week  Pd_District  \n",
       "0                 3            3  \n",
       "1                 3            3  \n",
       "2                 3            3  \n",
       "3                 3            3  \n",
       "4                 3            9  \n",
       "...             ...          ...  \n",
       "878044            1            8  \n",
       "878045            1            7  \n",
       "878046            1            1  \n",
       "878047            1            1  \n",
       "878048            1            4  \n",
       "\n",
       "[878049 rows x 10 columns]"
      ]
     },
     "execution_count": 47,
     "metadata": {},
     "output_type": "execute_result"
    }
   ],
   "source": [
    "train_df.drop(['PdDistrict'], axis = 1)"
   ]
  },
  {
   "cell_type": "code",
   "execution_count": 48,
   "metadata": {},
   "outputs": [],
   "source": [
    "train_df.drop(['Descript'], axis = 1, inplace=True)"
   ]
  },
  {
   "cell_type": "code",
   "execution_count": 49,
   "metadata": {},
   "outputs": [],
   "source": [
    "train_df.drop(['PdDistrict'], axis = 1, inplace=True)"
   ]
  },
  {
   "cell_type": "code",
   "execution_count": 50,
   "metadata": {},
   "outputs": [],
   "source": [
    "test_df.drop(['PdDistrict'], axis = 1, inplace=True)"
   ]
  },
  {
   "cell_type": "code",
   "execution_count": 51,
   "metadata": {},
   "outputs": [],
   "source": [
    "train_df.drop(['Resolution'], axis = 1, inplace=True)"
   ]
  },
  {
   "cell_type": "code",
   "execution_count": 52,
   "metadata": {},
   "outputs": [],
   "source": [
    "combine = [train_df, test_df]"
   ]
  },
  {
   "cell_type": "code",
   "execution_count": 53,
   "metadata": {},
   "outputs": [
    {
     "data": {
      "text/html": [
       "<div>\n",
       "<style scoped>\n",
       "    .dataframe tbody tr th:only-of-type {\n",
       "        vertical-align: middle;\n",
       "    }\n",
       "\n",
       "    .dataframe tbody tr th {\n",
       "        vertical-align: top;\n",
       "    }\n",
       "\n",
       "    .dataframe thead th {\n",
       "        text-align: right;\n",
       "    }\n",
       "</style>\n",
       "<table border=\"1\" class=\"dataframe\">\n",
       "  <thead>\n",
       "    <tr style=\"text-align: right;\">\n",
       "      <th></th>\n",
       "      <th>Category</th>\n",
       "      <th>Address</th>\n",
       "      <th>X</th>\n",
       "      <th>Y</th>\n",
       "      <th>Times</th>\n",
       "      <th>Date</th>\n",
       "      <th>Day_of_Week</th>\n",
       "      <th>Pd_District</th>\n",
       "    </tr>\n",
       "  </thead>\n",
       "  <tbody>\n",
       "    <tr>\n",
       "      <th>0</th>\n",
       "      <td>1</td>\n",
       "      <td>OAK ST / LAGUNA ST</td>\n",
       "      <td>-122.425892</td>\n",
       "      <td>37.774599</td>\n",
       "      <td>23:53</td>\n",
       "      <td>2015-05-13</td>\n",
       "      <td>3</td>\n",
       "      <td>3</td>\n",
       "    </tr>\n",
       "    <tr>\n",
       "      <th>1</th>\n",
       "      <td>2</td>\n",
       "      <td>OAK ST / LAGUNA ST</td>\n",
       "      <td>-122.425892</td>\n",
       "      <td>37.774599</td>\n",
       "      <td>23:53</td>\n",
       "      <td>2015-05-13</td>\n",
       "      <td>3</td>\n",
       "      <td>3</td>\n",
       "    </tr>\n",
       "    <tr>\n",
       "      <th>2</th>\n",
       "      <td>2</td>\n",
       "      <td>VANNESS AV / GREENWICH ST</td>\n",
       "      <td>-122.424363</td>\n",
       "      <td>37.800414</td>\n",
       "      <td>23:33</td>\n",
       "      <td>2015-05-13</td>\n",
       "      <td>3</td>\n",
       "      <td>3</td>\n",
       "    </tr>\n",
       "    <tr>\n",
       "      <th>3</th>\n",
       "      <td>3</td>\n",
       "      <td>1500 Block of LOMBARD ST</td>\n",
       "      <td>-122.426995</td>\n",
       "      <td>37.800873</td>\n",
       "      <td>23:30</td>\n",
       "      <td>2015-05-13</td>\n",
       "      <td>3</td>\n",
       "      <td>3</td>\n",
       "    </tr>\n",
       "    <tr>\n",
       "      <th>4</th>\n",
       "      <td>3</td>\n",
       "      <td>100 Block of BRODERICK ST</td>\n",
       "      <td>-122.438738</td>\n",
       "      <td>37.771541</td>\n",
       "      <td>23:30</td>\n",
       "      <td>2015-05-13</td>\n",
       "      <td>3</td>\n",
       "      <td>9</td>\n",
       "    </tr>\n",
       "  </tbody>\n",
       "</table>\n",
       "</div>"
      ],
      "text/plain": [
       "   Category                    Address           X          Y  Times  \\\n",
       "0         1         OAK ST / LAGUNA ST -122.425892  37.774599  23:53   \n",
       "1         2         OAK ST / LAGUNA ST -122.425892  37.774599  23:53   \n",
       "2         2  VANNESS AV / GREENWICH ST -122.424363  37.800414  23:33   \n",
       "3         3   1500 Block of LOMBARD ST -122.426995  37.800873  23:30   \n",
       "4         3  100 Block of BRODERICK ST -122.438738  37.771541  23:30   \n",
       "\n",
       "         Date  Day_of_Week  Pd_District  \n",
       "0  2015-05-13            3            3  \n",
       "1  2015-05-13            3            3  \n",
       "2  2015-05-13            3            3  \n",
       "3  2015-05-13            3            3  \n",
       "4  2015-05-13            3            9  "
      ]
     },
     "execution_count": 53,
     "metadata": {},
     "output_type": "execute_result"
    }
   ],
   "source": [
    "train_df.head()\n"
   ]
  },
  {
   "cell_type": "code",
   "execution_count": 54,
   "metadata": {},
   "outputs": [],
   "source": [
    "for dataset in combine:\n",
    " dataset['Intersection']=dataset['Address'].apply(lambda x : 1 if '/' in x else 0)\n",
    " dataset['Block']=dataset['Address'].apply(lambda x : 1 if 'Block' in x else 0)\n",
    " dataset['StreetSuffix']=dataset['Address'].apply(lambda x : x.split(' ')[-1] if len(x.split(' ')[-1])==2 else 0) "
   ]
  },
  {
   "cell_type": "code",
   "execution_count": 55,
   "metadata": {},
   "outputs": [
    {
     "data": {
      "text/html": [
       "<div>\n",
       "<style scoped>\n",
       "    .dataframe tbody tr th:only-of-type {\n",
       "        vertical-align: middle;\n",
       "    }\n",
       "\n",
       "    .dataframe tbody tr th {\n",
       "        vertical-align: top;\n",
       "    }\n",
       "\n",
       "    .dataframe thead th {\n",
       "        text-align: right;\n",
       "    }\n",
       "</style>\n",
       "<table border=\"1\" class=\"dataframe\">\n",
       "  <thead>\n",
       "    <tr style=\"text-align: right;\">\n",
       "      <th></th>\n",
       "      <th>Category</th>\n",
       "      <th>Address</th>\n",
       "      <th>X</th>\n",
       "      <th>Y</th>\n",
       "      <th>Times</th>\n",
       "      <th>Date</th>\n",
       "      <th>Day_of_Week</th>\n",
       "      <th>Pd_District</th>\n",
       "      <th>Intersection</th>\n",
       "      <th>Block</th>\n",
       "      <th>StreetSuffix</th>\n",
       "    </tr>\n",
       "  </thead>\n",
       "  <tbody>\n",
       "    <tr>\n",
       "      <th>0</th>\n",
       "      <td>1</td>\n",
       "      <td>OAK ST / LAGUNA ST</td>\n",
       "      <td>-122.425892</td>\n",
       "      <td>37.774599</td>\n",
       "      <td>23:53</td>\n",
       "      <td>2015-05-13</td>\n",
       "      <td>3</td>\n",
       "      <td>3</td>\n",
       "      <td>1</td>\n",
       "      <td>0</td>\n",
       "      <td>ST</td>\n",
       "    </tr>\n",
       "    <tr>\n",
       "      <th>1</th>\n",
       "      <td>2</td>\n",
       "      <td>OAK ST / LAGUNA ST</td>\n",
       "      <td>-122.425892</td>\n",
       "      <td>37.774599</td>\n",
       "      <td>23:53</td>\n",
       "      <td>2015-05-13</td>\n",
       "      <td>3</td>\n",
       "      <td>3</td>\n",
       "      <td>1</td>\n",
       "      <td>0</td>\n",
       "      <td>ST</td>\n",
       "    </tr>\n",
       "    <tr>\n",
       "      <th>2</th>\n",
       "      <td>2</td>\n",
       "      <td>VANNESS AV / GREENWICH ST</td>\n",
       "      <td>-122.424363</td>\n",
       "      <td>37.800414</td>\n",
       "      <td>23:33</td>\n",
       "      <td>2015-05-13</td>\n",
       "      <td>3</td>\n",
       "      <td>3</td>\n",
       "      <td>1</td>\n",
       "      <td>0</td>\n",
       "      <td>ST</td>\n",
       "    </tr>\n",
       "    <tr>\n",
       "      <th>3</th>\n",
       "      <td>3</td>\n",
       "      <td>1500 Block of LOMBARD ST</td>\n",
       "      <td>-122.426995</td>\n",
       "      <td>37.800873</td>\n",
       "      <td>23:30</td>\n",
       "      <td>2015-05-13</td>\n",
       "      <td>3</td>\n",
       "      <td>3</td>\n",
       "      <td>0</td>\n",
       "      <td>1</td>\n",
       "      <td>ST</td>\n",
       "    </tr>\n",
       "    <tr>\n",
       "      <th>4</th>\n",
       "      <td>3</td>\n",
       "      <td>100 Block of BRODERICK ST</td>\n",
       "      <td>-122.438738</td>\n",
       "      <td>37.771541</td>\n",
       "      <td>23:30</td>\n",
       "      <td>2015-05-13</td>\n",
       "      <td>3</td>\n",
       "      <td>9</td>\n",
       "      <td>0</td>\n",
       "      <td>1</td>\n",
       "      <td>ST</td>\n",
       "    </tr>\n",
       "  </tbody>\n",
       "</table>\n",
       "</div>"
      ],
      "text/plain": [
       "   Category                    Address           X          Y  Times  \\\n",
       "0         1         OAK ST / LAGUNA ST -122.425892  37.774599  23:53   \n",
       "1         2         OAK ST / LAGUNA ST -122.425892  37.774599  23:53   \n",
       "2         2  VANNESS AV / GREENWICH ST -122.424363  37.800414  23:33   \n",
       "3         3   1500 Block of LOMBARD ST -122.426995  37.800873  23:30   \n",
       "4         3  100 Block of BRODERICK ST -122.438738  37.771541  23:30   \n",
       "\n",
       "         Date  Day_of_Week  Pd_District  Intersection  Block StreetSuffix  \n",
       "0  2015-05-13            3            3             1      0           ST  \n",
       "1  2015-05-13            3            3             1      0           ST  \n",
       "2  2015-05-13            3            3             1      0           ST  \n",
       "3  2015-05-13            3            3             0      1           ST  \n",
       "4  2015-05-13            3            9             0      1           ST  "
      ]
     },
     "execution_count": 55,
     "metadata": {},
     "output_type": "execute_result"
    }
   ],
   "source": [
    "train_df.head()"
   ]
  },
  {
   "cell_type": "code",
   "execution_count": 56,
   "metadata": {},
   "outputs": [
    {
     "data": {
      "text/html": [
       "<div>\n",
       "<style scoped>\n",
       "    .dataframe tbody tr th:only-of-type {\n",
       "        vertical-align: middle;\n",
       "    }\n",
       "\n",
       "    .dataframe tbody tr th {\n",
       "        vertical-align: top;\n",
       "    }\n",
       "\n",
       "    .dataframe thead th {\n",
       "        text-align: right;\n",
       "    }\n",
       "</style>\n",
       "<table border=\"1\" class=\"dataframe\">\n",
       "  <thead>\n",
       "    <tr style=\"text-align: right;\">\n",
       "      <th></th>\n",
       "      <th>Id</th>\n",
       "      <th>Address</th>\n",
       "      <th>X</th>\n",
       "      <th>Y</th>\n",
       "      <th>Times</th>\n",
       "      <th>Date</th>\n",
       "      <th>Day_of_Week</th>\n",
       "      <th>Pd_District</th>\n",
       "      <th>Intersection</th>\n",
       "      <th>Block</th>\n",
       "      <th>StreetSuffix</th>\n",
       "    </tr>\n",
       "  </thead>\n",
       "  <tbody>\n",
       "    <tr>\n",
       "      <th>0</th>\n",
       "      <td>0</td>\n",
       "      <td>2000 Block of THOMAS AV</td>\n",
       "      <td>-122.399588</td>\n",
       "      <td>37.735051</td>\n",
       "      <td>23:59</td>\n",
       "      <td>2015-05-10</td>\n",
       "      <td>7</td>\n",
       "      <td>4</td>\n",
       "      <td>0</td>\n",
       "      <td>1</td>\n",
       "      <td>AV</td>\n",
       "    </tr>\n",
       "    <tr>\n",
       "      <th>1</th>\n",
       "      <td>1</td>\n",
       "      <td>3RD ST / REVERE AV</td>\n",
       "      <td>-122.391523</td>\n",
       "      <td>37.732432</td>\n",
       "      <td>23:51</td>\n",
       "      <td>2015-05-10</td>\n",
       "      <td>7</td>\n",
       "      <td>4</td>\n",
       "      <td>1</td>\n",
       "      <td>0</td>\n",
       "      <td>AV</td>\n",
       "    </tr>\n",
       "    <tr>\n",
       "      <th>2</th>\n",
       "      <td>2</td>\n",
       "      <td>2000 Block of GOUGH ST</td>\n",
       "      <td>-122.426002</td>\n",
       "      <td>37.792212</td>\n",
       "      <td>23:50</td>\n",
       "      <td>2015-05-10</td>\n",
       "      <td>7</td>\n",
       "      <td>3</td>\n",
       "      <td>0</td>\n",
       "      <td>1</td>\n",
       "      <td>ST</td>\n",
       "    </tr>\n",
       "    <tr>\n",
       "      <th>3</th>\n",
       "      <td>3</td>\n",
       "      <td>4700 Block of MISSION ST</td>\n",
       "      <td>-122.437394</td>\n",
       "      <td>37.721412</td>\n",
       "      <td>23:45</td>\n",
       "      <td>2015-05-10</td>\n",
       "      <td>7</td>\n",
       "      <td>7</td>\n",
       "      <td>0</td>\n",
       "      <td>1</td>\n",
       "      <td>ST</td>\n",
       "    </tr>\n",
       "    <tr>\n",
       "      <th>4</th>\n",
       "      <td>4</td>\n",
       "      <td>4700 Block of MISSION ST</td>\n",
       "      <td>-122.437394</td>\n",
       "      <td>37.721412</td>\n",
       "      <td>23:45</td>\n",
       "      <td>2015-05-10</td>\n",
       "      <td>7</td>\n",
       "      <td>7</td>\n",
       "      <td>0</td>\n",
       "      <td>1</td>\n",
       "      <td>ST</td>\n",
       "    </tr>\n",
       "  </tbody>\n",
       "</table>\n",
       "</div>"
      ],
      "text/plain": [
       "   Id                   Address           X          Y  Times        Date  \\\n",
       "0   0   2000 Block of THOMAS AV -122.399588  37.735051  23:59  2015-05-10   \n",
       "1   1        3RD ST / REVERE AV -122.391523  37.732432  23:51  2015-05-10   \n",
       "2   2    2000 Block of GOUGH ST -122.426002  37.792212  23:50  2015-05-10   \n",
       "3   3  4700 Block of MISSION ST -122.437394  37.721412  23:45  2015-05-10   \n",
       "4   4  4700 Block of MISSION ST -122.437394  37.721412  23:45  2015-05-10   \n",
       "\n",
       "   Day_of_Week  Pd_District  Intersection  Block StreetSuffix  \n",
       "0            7            4             0      1           AV  \n",
       "1            7            4             1      0           AV  \n",
       "2            7            3             0      1           ST  \n",
       "3            7            7             0      1           ST  \n",
       "4            7            7             0      1           ST  "
      ]
     },
     "execution_count": 56,
     "metadata": {},
     "output_type": "execute_result"
    }
   ],
   "source": [
    "test_df.head()"
   ]
  },
  {
   "cell_type": "code",
   "execution_count": 57,
   "metadata": {},
   "outputs": [
    {
     "data": {
      "text/plain": [
       "array(['ST', 'AV', 'WY', 'BL', 'DR', 'CT', 'TR', 'HY', 'RD', 'PZ', 'PL',\n",
       "       'LN', 0, 'AL', 'CR', 'WK', 'EX', 'RW'], dtype=object)"
      ]
     },
     "execution_count": 57,
     "metadata": {},
     "output_type": "execute_result"
    }
   ],
   "source": [
    "train_df.StreetSuffix.unique()"
   ]
  },
  {
   "cell_type": "code",
   "execution_count": null,
   "metadata": {},
   "outputs": [],
   "source": []
  }
 ],
 "metadata": {
  "kernelspec": {
   "display_name": "Python 3",
   "language": "python",
   "name": "python3"
  },
  "language_info": {
   "codemirror_mode": {
    "name": "ipython",
    "version": 3
   },
   "file_extension": ".py",
   "mimetype": "text/x-python",
   "name": "python",
   "nbconvert_exporter": "python",
   "pygments_lexer": "ipython3",
   "version": "3.7.5"
  }
 },
 "nbformat": 4,
 "nbformat_minor": 2
}
